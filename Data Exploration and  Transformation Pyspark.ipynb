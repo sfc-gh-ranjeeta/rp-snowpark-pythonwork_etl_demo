{
 "cells": [
  {
   "cell_type": "code",
   "execution_count": 10,
   "id": "06da83a7",
   "metadata": {},
   "outputs": [
    {
     "name": "stdout",
     "output_type": "stream",
     "text": [
      "root\n",
      " |-- CRIM: double (nullable = true)\n",
      " |-- ZN: double (nullable = true)\n",
      " |-- INDUS: double (nullable = true)\n",
      " |-- CHAS: integer (nullable = true)\n",
      " |-- NOX: double (nullable = true)\n",
      " |-- RM: double (nullable = true)\n",
      " |-- AGE: double (nullable = true)\n",
      " |-- DIS: double (nullable = true)\n",
      " |-- RAD: integer (nullable = true)\n",
      " |-- TAX: double (nullable = true)\n",
      " |-- PTRATIO: double (nullable = true)\n",
      " |-- B: double (nullable = true)\n",
      " |-- LSTAT: double (nullable = true)\n",
      " |-- MEDV: double (nullable = true)\n",
      "\n"
     ]
    }
   ],
   "source": [
    "##import the libraries\n",
    "\n",
    "from pyspark.sql import SparkSession\n",
    "spark = SparkSession.builder.appName(\"DataFrame\").getOrCreate()\n",
    "\n",
    "\n",
    "## Boston Housing Data using Spark Dataframe \n",
    "df = spark.read\\\n",
    ".option(\"header\",True)\\\n",
    ".option(\"inferSchema\", True)\\\n",
    ".csv(\"Data/boston.csv\")\n",
    "\n",
    "df.printSchema()\n"
   ]
  },
  {
   "cell_type": "code",
   "execution_count": 11,
   "id": "9c9d231d",
   "metadata": {},
   "outputs": [
    {
     "name": "stdout",
     "output_type": "stream",
     "text": [
      "+-------+----+-----+----+-----+-----+----+------+---+-----+-------+------+-----+----+\n",
      "|   CRIM|  ZN|INDUS|CHAS|  NOX|   RM| AGE|   DIS|RAD|  TAX|PTRATIO|     B|LSTAT|MEDV|\n",
      "+-------+----+-----+----+-----+-----+----+------+---+-----+-------+------+-----+----+\n",
      "|0.00632|18.0| 2.31|   0|0.538|6.575|65.2|  4.09|  1|296.0|   15.3| 396.9| 4.98|24.0|\n",
      "|0.02731| 0.0| 7.07|   0|0.469|6.421|78.9|4.9671|  2|242.0|   17.8| 396.9| 9.14|21.6|\n",
      "|0.02729| 0.0| 7.07|   0|0.469|7.185|61.1|4.9671|  2|242.0|   17.8|392.83| 4.03|34.7|\n",
      "|0.03237| 0.0| 2.18|   0|0.458|6.998|45.8|6.0622|  3|222.0|   18.7|394.63| 2.94|33.4|\n",
      "|0.06905| 0.0| 2.18|   0|0.458|7.147|54.2|6.0622|  3|222.0|   18.7| 396.9| 5.33|36.2|\n",
      "+-------+----+-----+----+-----+-----+----+------+---+-----+-------+------+-----+----+\n",
      "only showing top 5 rows\n",
      "\n"
     ]
    }
   ],
   "source": [
    "df.show(5)"
   ]
  },
  {
   "cell_type": "code",
   "execution_count": 19,
   "id": "ff9f6fe3",
   "metadata": {},
   "outputs": [
    {
     "name": "stdout",
     "output_type": "stream",
     "text": [
      "+-------+----+-----+\n",
      "|   CRIM|MEDV|   RM|\n",
      "+-------+----+-----+\n",
      "|0.00632|24.0|6.575|\n",
      "|0.02731|21.6|6.421|\n",
      "|0.02729|34.7|7.185|\n",
      "|0.03237|33.4|6.998|\n",
      "|0.06905|36.2|7.147|\n",
      "|0.02985|28.7| 6.43|\n",
      "|0.08829|22.9|6.012|\n",
      "|0.14455|27.1|6.172|\n",
      "|0.21124|16.5|5.631|\n",
      "|0.17004|18.9|6.004|\n",
      "+-------+----+-----+\n",
      "only showing top 10 rows\n",
      "\n"
     ]
    }
   ],
   "source": [
    "##column string\n",
    "df.select(\"CRIM\",'MEDV','RM').show(10)"
   ]
  },
  {
   "cell_type": "code",
   "execution_count": 20,
   "id": "a8cc0dfa",
   "metadata": {},
   "outputs": [
    {
     "name": "stdout",
     "output_type": "stream",
     "text": [
      "+-------+----+-----+\n",
      "|   CRIM|MEDV|   RM|\n",
      "+-------+----+-----+\n",
      "|0.00632|24.0|6.575|\n",
      "|0.02731|21.6|6.421|\n",
      "|0.02729|34.7|7.185|\n",
      "|0.03237|33.4|6.998|\n",
      "|0.06905|36.2|7.147|\n",
      "|0.02985|28.7| 6.43|\n",
      "|0.08829|22.9|6.012|\n",
      "|0.14455|27.1|6.172|\n",
      "|0.21124|16.5|5.631|\n",
      "|0.17004|18.9|6.004|\n",
      "+-------+----+-----+\n",
      "only showing top 10 rows\n",
      "\n"
     ]
    }
   ],
   "source": [
    "## column object\n",
    "from pyspark.sql.functions import*\n",
    "df.select(column(\"CRIM\"), col('MEDV'),df.RM).show(10)"
   ]
  },
  {
   "cell_type": "markdown",
   "id": "961b069e",
   "metadata": {},
   "source": [
    "## Transformation \n",
    "\n",
    "1. Combining Dataframes\n",
    "2. Aggreagation and Summarizing \n",
    "3. Apply functions and built-in transformation\n",
    "4. Using Built-in and column-level functions\n",
    "5. Creating and using UDFs\n",
    "6. Refernecing Rows/Columns\n",
    "7. Creating Columns Expressions\n"
   ]
  },
  {
   "cell_type": "code",
   "execution_count": null,
   "id": "def96850",
   "metadata": {},
   "outputs": [],
   "source": []
  }
 ],
 "metadata": {
  "kernelspec": {
   "display_name": "Python 3 (ipykernel)",
   "language": "python",
   "name": "python3"
  },
  "language_info": {
   "codemirror_mode": {
    "name": "ipython",
    "version": 3
   },
   "file_extension": ".py",
   "mimetype": "text/x-python",
   "name": "python",
   "nbconvert_exporter": "python",
   "pygments_lexer": "ipython3",
   "version": "3.8.15"
  }
 },
 "nbformat": 4,
 "nbformat_minor": 5
}
