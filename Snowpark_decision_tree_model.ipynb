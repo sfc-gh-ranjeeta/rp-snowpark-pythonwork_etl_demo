{
 "cells": [
  {
   "cell_type": "markdown",
   "id": "0820f898",
   "metadata": {},
   "source": [
    "Snowpark library is a SNowflake API that can be used for processing and querying data, using which you can build applications \n",
    "that process data in Snowflake without moving data to the system where your **application code runs**. \n",
    "Snowpark has many kool features , you can check more on snowpark here \"https://docs.snowflake.com/en/developer-guide/snowpark/index.html\".\n",
    "\n",
    "\n",
    "This is example article, I will create a simple Machine learning model (decision-tree model) and run it in the snowflake environment using the snowpark\n",
    "library. The dataset used for the example is the **Iris** flower dataset, which you can easily download from the internet.\n",
    "\n",
    "\n",
    "**Prerequiste**\n",
    "1. Snowflake Account\n",
    "2. Python Libraries - Snowpark, Scikit-Learn\n",
    "3. Iris Dataset\n",
    "\n",
    "\n",
    "\n"
   ]
  },
  {
   "cell_type": "markdown",
   "id": "947f7009",
   "metadata": {},
   "source": [
    "\n",
    "We will create a user-defined functions (UDFs) with the decision-tree model and using **Snowpark** will push the code to the snowflake server;\n",
    "and we also see how we can operate on the data.\n",
    "\n",
    "To know more about scikit-learn, Decision-tree model refer\n",
    "[here](https://scikit-learn.org/stable/modules/generated/sklearn.tree.DecisionTreeClassifier.html)"
   ]
  },
  {
   "cell_type": "code",
   "execution_count": 3,
   "id": "91757a53",
   "metadata": {},
   "outputs": [
    {
     "name": "stdout",
     "output_type": "stream",
     "text": [
      "Username:rpegu\n",
      "Password for rpegu:········\n",
      "Warehouse:demo_wh\n",
      "Role:demo_role\n"
     ]
    }
   ],
   "source": [
    "# First lets connect to snowflake account\n",
    "\n",
    "\n",
    "#import the snowflake libraries\n",
    "from snowflake.snowpark.session import Session\n",
    "import getpass\n",
    "\n",
    "#Authentication\n",
    "\n",
    "user = input(\"Username:\")\n",
    "pwd = getpass.getpass(\"Password for \" + user + \":\")\n",
    "wh = input(\"Warehouse:\") # or create a new warehouse an runtime\n",
    "role = input(\"Role:\")\n",
    "\n",
    "\n",
    "connection_parameters = {\n",
    "  \"account\": \"sfpscogs-rp022az\",\n",
    "  \"user\": user,\n",
    "  \"password\": pwd,\n",
    "  \"role\": role,\n",
    "  \"warehouse\": wh ,\n",
    "  \"database\": \"SNOWPARK_DEMO\",\n",
    "  \"schema\": \"ML_DB\"}\n",
    "\n",
    "session = Session.builder.configs(connection_parameters).create()\n"
   ]
  },
  {
   "cell_type": "code",
   "execution_count": 4,
   "id": "f5a14a43",
   "metadata": {},
   "outputs": [
    {
     "data": {
      "text/plain": [
       "[Row(status='ML_MODELS already exists, statement succeeded.')]"
      ]
     },
     "execution_count": 4,
     "metadata": {},
     "output_type": "execute_result"
    }
   ],
   "source": [
    "# create a stage to sava and store the model file\n",
    "\n",
    "session.sql(\"CREATE STAGE if not exists ML_MODELS \").collect()"
   ]
  },
  {
   "cell_type": "code",
   "execution_count": 5,
   "id": "5902560c",
   "metadata": {},
   "outputs": [
    {
     "data": {
      "text/html": [
       "<div>\n",
       "<style scoped>\n",
       "    .dataframe tbody tr th:only-of-type {\n",
       "        vertical-align: middle;\n",
       "    }\n",
       "\n",
       "    .dataframe tbody tr th {\n",
       "        vertical-align: top;\n",
       "    }\n",
       "\n",
       "    .dataframe thead th {\n",
       "        text-align: right;\n",
       "    }\n",
       "</style>\n",
       "<table border=\"1\" class=\"dataframe\">\n",
       "  <thead>\n",
       "    <tr style=\"text-align: right;\">\n",
       "      <th></th>\n",
       "      <th>created_on</th>\n",
       "      <th>name</th>\n",
       "      <th>database_name</th>\n",
       "      <th>schema_name</th>\n",
       "      <th>url</th>\n",
       "      <th>has_credentials</th>\n",
       "      <th>has_encryption_key</th>\n",
       "      <th>owner</th>\n",
       "      <th>comment</th>\n",
       "      <th>region</th>\n",
       "      <th>type</th>\n",
       "      <th>cloud</th>\n",
       "      <th>notification_channel</th>\n",
       "      <th>storage_integration</th>\n",
       "    </tr>\n",
       "  </thead>\n",
       "  <tbody>\n",
       "    <tr>\n",
       "      <th>0</th>\n",
       "      <td>2023-01-27 08:49:38.170000-08:00</td>\n",
       "      <td>ML_MODELS</td>\n",
       "      <td>SNOWPARK_DEMO</td>\n",
       "      <td>ML_DB</td>\n",
       "      <td></td>\n",
       "      <td>N</td>\n",
       "      <td>N</td>\n",
       "      <td>DEMO_ROLE</td>\n",
       "      <td></td>\n",
       "      <td>None</td>\n",
       "      <td>INTERNAL</td>\n",
       "      <td>None</td>\n",
       "      <td>None</td>\n",
       "      <td>None</td>\n",
       "    </tr>\n",
       "  </tbody>\n",
       "</table>\n",
       "</div>"
      ],
      "text/plain": [
       "                        created_on       name  database_name schema_name url  \\\n",
       "0 2023-01-27 08:49:38.170000-08:00  ML_MODELS  SNOWPARK_DEMO       ML_DB       \n",
       "\n",
       "  has_credentials has_encryption_key      owner comment region      type  \\\n",
       "0               N                  N  DEMO_ROLE           None  INTERNAL   \n",
       "\n",
       "  cloud notification_channel storage_integration  \n",
       "0  None                 None                None  "
      ]
     },
     "execution_count": 5,
     "metadata": {},
     "output_type": "execute_result"
    }
   ],
   "source": [
    "import pandas as pd\n",
    "import numpy as np\n",
    "pd.DataFrame(session.sql('SHOW STAGES').collect())"
   ]
  },
  {
   "cell_type": "code",
   "execution_count": 6,
   "id": "ce2a1941",
   "metadata": {},
   "outputs": [
    {
     "name": "stdout",
     "output_type": "stream",
     "text": [
      "--------------------------------------------------------------------------------------------\n",
      "|\"ID\"  |\"SEPALLENGTHCM\"  |\"SEPALWIDTHCM\"  |\"PETALLENGTHCM\"  |\"PETALWIDTHCM\"  |\"SPECIES\"    |\n",
      "--------------------------------------------------------------------------------------------\n",
      "|1     |5.1              |3.5             |1.4              |0.2             |Iris-setosa  |\n",
      "|2     |4.9              |3.0             |1.4              |0.2             |Iris-setosa  |\n",
      "|3     |4.7              |3.2             |1.3              |0.2             |Iris-setosa  |\n",
      "|4     |4.6              |3.1             |1.5              |0.2             |Iris-setosa  |\n",
      "|5     |5.0              |3.6             |1.4              |0.2             |Iris-setosa  |\n",
      "--------------------------------------------------------------------------------------------\n",
      "\n"
     ]
    }
   ],
   "source": [
    "## create an iris dataframe, get the data from SNOWPARK_DEMO \n",
    "sdf_iris = session.table('IRIS')\n",
    "\n",
    "sdf_iris.show(5)"
   ]
  },
  {
   "cell_type": "code",
   "execution_count": 47,
   "id": "30db8542",
   "metadata": {},
   "outputs": [
    {
     "data": {
      "text/plain": [
       "['ID',\n",
       " 'SEPALLENGTHCM',\n",
       " 'SEPALWIDTHCM',\n",
       " 'PETALLENGTHCM',\n",
       " 'PETALWIDTHCM',\n",
       " 'SPECIES']"
      ]
     },
     "execution_count": 47,
     "metadata": {},
     "output_type": "execute_result"
    }
   ],
   "source": [
    "# get the columns\n",
    "sdf_iris.columns"
   ]
  },
  {
   "cell_type": "code",
   "execution_count": 49,
   "id": "ff48de4e",
   "metadata": {},
   "outputs": [
    {
     "data": {
      "text/html": [
       "<div>\n",
       "<style scoped>\n",
       "    .dataframe tbody tr th:only-of-type {\n",
       "        vertical-align: middle;\n",
       "    }\n",
       "\n",
       "    .dataframe tbody tr th {\n",
       "        vertical-align: top;\n",
       "    }\n",
       "\n",
       "    .dataframe thead th {\n",
       "        text-align: right;\n",
       "    }\n",
       "</style>\n",
       "<table border=\"1\" class=\"dataframe\">\n",
       "  <thead>\n",
       "    <tr style=\"text-align: right;\">\n",
       "      <th></th>\n",
       "      <th>SPECIES</th>\n",
       "      <th>COUNT</th>\n",
       "    </tr>\n",
       "  </thead>\n",
       "  <tbody>\n",
       "    <tr>\n",
       "      <th>0</th>\n",
       "      <td>Iris-setosa</td>\n",
       "      <td>50</td>\n",
       "    </tr>\n",
       "    <tr>\n",
       "      <th>1</th>\n",
       "      <td>Iris-versicolor</td>\n",
       "      <td>50</td>\n",
       "    </tr>\n",
       "    <tr>\n",
       "      <th>2</th>\n",
       "      <td>Iris-virginica</td>\n",
       "      <td>50</td>\n",
       "    </tr>\n",
       "  </tbody>\n",
       "</table>\n",
       "</div>"
      ],
      "text/plain": [
       "           SPECIES  COUNT\n",
       "0      Iris-setosa     50\n",
       "1  Iris-versicolor     50\n",
       "2   Iris-virginica     50"
      ]
     },
     "execution_count": 49,
     "metadata": {},
     "output_type": "execute_result"
    }
   ],
   "source": [
    "# let quickly check the disstribution of dataset\n",
    "\n",
    "sdf_iris.group_by('SPECIES').count().to_pandas()"
   ]
  },
  {
   "cell_type": "markdown",
   "id": "dcaf5464",
   "metadata": {},
   "source": [
    "**About the Data**\n",
    "    \n",
    "    "
   ]
  },
  {
   "cell_type": "code",
   "execution_count": 7,
   "id": "1d21d130",
   "metadata": {},
   "outputs": [
    {
     "data": {
      "text/html": [
       "<div>\n",
       "<style scoped>\n",
       "    .dataframe tbody tr th:only-of-type {\n",
       "        vertical-align: middle;\n",
       "    }\n",
       "\n",
       "    .dataframe tbody tr th {\n",
       "        vertical-align: top;\n",
       "    }\n",
       "\n",
       "    .dataframe thead th {\n",
       "        text-align: right;\n",
       "    }\n",
       "</style>\n",
       "<table border=\"1\" class=\"dataframe\">\n",
       "  <thead>\n",
       "    <tr style=\"text-align: right;\">\n",
       "      <th></th>\n",
       "      <th>ID</th>\n",
       "      <th>SEPALLENGTHCM</th>\n",
       "      <th>SEPALWIDTHCM</th>\n",
       "      <th>PETALLENGTHCM</th>\n",
       "      <th>PETALWIDTHCM</th>\n",
       "    </tr>\n",
       "  </thead>\n",
       "  <tbody>\n",
       "    <tr>\n",
       "      <th>count</th>\n",
       "      <td>150.000000</td>\n",
       "      <td>150.000000</td>\n",
       "      <td>150.000000</td>\n",
       "      <td>150.000000</td>\n",
       "      <td>150.000000</td>\n",
       "    </tr>\n",
       "    <tr>\n",
       "      <th>mean</th>\n",
       "      <td>75.500000</td>\n",
       "      <td>5.843333</td>\n",
       "      <td>3.054000</td>\n",
       "      <td>3.758667</td>\n",
       "      <td>1.198667</td>\n",
       "    </tr>\n",
       "    <tr>\n",
       "      <th>std</th>\n",
       "      <td>43.445368</td>\n",
       "      <td>0.828066</td>\n",
       "      <td>0.433594</td>\n",
       "      <td>1.764420</td>\n",
       "      <td>0.763161</td>\n",
       "    </tr>\n",
       "    <tr>\n",
       "      <th>min</th>\n",
       "      <td>1.000000</td>\n",
       "      <td>4.300000</td>\n",
       "      <td>2.000000</td>\n",
       "      <td>1.000000</td>\n",
       "      <td>0.100000</td>\n",
       "    </tr>\n",
       "    <tr>\n",
       "      <th>25%</th>\n",
       "      <td>38.250000</td>\n",
       "      <td>5.100000</td>\n",
       "      <td>2.800000</td>\n",
       "      <td>1.600000</td>\n",
       "      <td>0.300000</td>\n",
       "    </tr>\n",
       "    <tr>\n",
       "      <th>50%</th>\n",
       "      <td>75.500000</td>\n",
       "      <td>5.800000</td>\n",
       "      <td>3.000000</td>\n",
       "      <td>4.350000</td>\n",
       "      <td>1.300000</td>\n",
       "    </tr>\n",
       "    <tr>\n",
       "      <th>75%</th>\n",
       "      <td>112.750000</td>\n",
       "      <td>6.400000</td>\n",
       "      <td>3.300000</td>\n",
       "      <td>5.100000</td>\n",
       "      <td>1.800000</td>\n",
       "    </tr>\n",
       "    <tr>\n",
       "      <th>max</th>\n",
       "      <td>150.000000</td>\n",
       "      <td>7.900000</td>\n",
       "      <td>4.400000</td>\n",
       "      <td>6.900000</td>\n",
       "      <td>2.500000</td>\n",
       "    </tr>\n",
       "  </tbody>\n",
       "</table>\n",
       "</div>"
      ],
      "text/plain": [
       "               ID  SEPALLENGTHCM  SEPALWIDTHCM  PETALLENGTHCM  PETALWIDTHCM\n",
       "count  150.000000     150.000000    150.000000     150.000000    150.000000\n",
       "mean    75.500000       5.843333      3.054000       3.758667      1.198667\n",
       "std     43.445368       0.828066      0.433594       1.764420      0.763161\n",
       "min      1.000000       4.300000      2.000000       1.000000      0.100000\n",
       "25%     38.250000       5.100000      2.800000       1.600000      0.300000\n",
       "50%     75.500000       5.800000      3.000000       4.350000      1.300000\n",
       "75%    112.750000       6.400000      3.300000       5.100000      1.800000\n",
       "max    150.000000       7.900000      4.400000       6.900000      2.500000"
      ]
     },
     "execution_count": 7,
     "metadata": {},
     "output_type": "execute_result"
    }
   ],
   "source": [
    "## loading the data in pandas\n",
    "df_iris = session.table('IRIS').to_pandas()\n",
    "df_iris.describe()"
   ]
  },
  {
   "cell_type": "markdown",
   "id": "c61ee712",
   "metadata": {},
   "source": [
    "Let's quickly visualize the data using the seaborn library"
   ]
  },
  {
   "cell_type": "code",
   "execution_count": 8,
   "id": "5414972d",
   "metadata": {},
   "outputs": [
    {
     "data": {
      "text/plain": [
       "<AxesSubplot: xlabel='SEPALLENGTHCM', ylabel='SEPALWIDTHCM'>"
      ]
     },
     "execution_count": 8,
     "metadata": {},
     "output_type": "execute_result"
    },
    {
     "data": {
      "image/png": "[encoded data removed]",
      "text/plain": [
       "<Figure size 640x480 with 1 Axes>"
      ]
     },
     "metadata": {},
     "output_type": "display_data"
    }
   ],
   "source": [
    "%matplotlib inline\n",
    "import matplotlib.pyplot as plt\n",
    "import seaborn as sns\n",
    "sns.scatterplot( x=\"SEPALLENGTHCM\", y=\"SEPALWIDTHCM\",data = df_iris, hue = 'SPECIES', legend= True)"
   ]
  },
  {
   "cell_type": "markdown",
   "id": "7543ffda",
   "metadata": {},
   "source": [
    "Lets create a simple decision-tree model."
   ]
  },
  {
   "cell_type": "code",
   "execution_count": 12,
   "id": "8481d8c5",
   "metadata": {},
   "outputs": [],
   "source": [
    "# create a python function for decision tree model \n",
    "import snowflake.snowpark.types as T\n",
    "\n",
    "def sproc_training_decision_tree_model(session: Session, data: str, features_col: list,\\\n",
    "                                       target_col:list,model_name: str) -> T.Variant: \n",
    "    #loadinf the train data to pandas df\n",
    "\n",
    "    df = session.table(data).to_pandas()\n",
    "    X = df[features_col]\n",
    "    y = df[target_col]\n",
    "    from sklearn.model_selection import train_test_split\n",
    "    X_train, X_test,y_train, y_test = train_test_split(X, y, test_size=0.4, random_state = 7)\n",
    "    \n",
    "    #Actual model training\n",
    "    from sklearn import tree\n",
    "    classifier = tree.DecisionTreeClassifier()\n",
    "    classifier.fit(X_train,y_train)\n",
    "    predictions=classifier.predict(X_test)\n",
    "    \n",
    "    from sklearn.metrics import accuracy_score\n",
    "    score = accuracy_score(y_test,predictions)*100\n",
    "    from joblib import dump\n",
    "    dump(classifier,'/tmp/'+model_name)\n",
    "    #puting the saved model into stage.\n",
    "    session.file.put('/tmp/'+ model_name,'@ML_MODELS',auto_compress=False, overwrite=True)\n",
    "    \n",
    "    return score"
   ]
  },
  {
   "cell_type": "markdown",
   "id": "2266b2b5",
   "metadata": {},
   "source": [
    "To run the model in snowpark, lets register a named UDF. To do this, use one of the following:\n",
    "\n",
    "The register method, in the UDFRegistration class, with the name argument.\n",
    "    \n",
    "    \n",
    "    "
   ]
  },
  {
   "cell_type": "code",
   "execution_count": 13,
   "id": "6a62f925",
   "metadata": {},
   "outputs": [],
   "source": [
    "## Registering the function \n",
    "sproc_training_decision_tree_model = session.sproc.register(func=sproc_training_decision_tree_model,\\\n",
    "                                                            name = 'sproc_train_classifer_model',\\\n",
    "                                                            is_permanent=True,\\\n",
    "                                                            replace=True,\\\n",
    "                                                            stage_location='@ML_MODELS',\\\n",
    "                                                            packages=['snowflake-snowpark-python','scikit-learn','joblib'])\n"
   ]
  },
  {
   "cell_type": "markdown",
   "id": "6ac76c38",
   "metadata": {},
   "source": [
    "Now let's call the UDF"
   ]
  },
  {
   "cell_type": "code",
   "execution_count": 16,
   "id": "3a6ad5a6",
   "metadata": {},
   "outputs": [
    {
     "name": "stdout",
     "output_type": "stream",
     "text": [
      "Accuracy: 93.33333333333333\n"
     ]
    }
   ],
   "source": [
    "data='IRIS'\n",
    "#get features columns\n",
    "feature_cols =['SEPALLENGTHCM', 'SEPALWIDTHCM', 'PETALLENGTHCM', 'PETALWIDTHCM']\n",
    "target_col = ['SPECIES']\n",
    "model_name = 'classifier_model.sav'\n",
    "\n",
    "score = sproc_training_decision_tree_model(data, feature_cols,  target_col, model_name,  session=session)\n",
    "\n",
    "# what is score of the model ?\n",
    "\n",
    "\n",
    "print(\"Accuracy:\" , score)\n"
   ]
  },
  {
   "cell_type": "markdown",
   "id": "1723a12b",
   "metadata": {},
   "source": [
    "So our model has **accuracy** on 93%.\n",
    "\n",
    "Now lets see whats there in our stage."
   ]
  },
  {
   "cell_type": "code",
   "execution_count": 20,
   "id": "6428d67c",
   "metadata": {
    "scrolled": true
   },
   "outputs": [
    {
     "data": {
      "text/plain": [
       "[Row(name='ml_models/classifier_model.sav', size=2480, md5='0465b3d4a598475fe28e6eee28add9d5', last_modified='Mon, 30 Jan 2023 16:52:20 GMT')]"
      ]
     },
     "execution_count": 20,
     "metadata": {},
     "output_type": "execute_result"
    }
   ],
   "source": [
    "session.sql(\"list @ML_MODELS \").collect()"
   ]
  },
  {
   "cell_type": "code",
   "execution_count": 47,
   "id": "de53a5b1",
   "metadata": {},
   "outputs": [
    {
     "ename": "NameError",
     "evalue": "name 'X' is not defined",
     "output_type": "error",
     "traceback": [
      "\u001b[0;31m---------------------------------------------------------------------------\u001b[0m",
      "\u001b[0;31mNameError\u001b[0m                                 Traceback (most recent call last)",
      "Cell \u001b[0;32mIn[47], line 1\u001b[0m\n\u001b[0;32m----> 1\u001b[0m \u001b[43mX\u001b[49m\n",
      "\u001b[0;31mNameError\u001b[0m: name 'X' is not defined"
     ]
    }
   ],
   "source": []
  },
  {
   "cell_type": "code",
   "execution_count": 64,
   "id": "39f6a60c",
   "metadata": {},
   "outputs": [],
   "source": [
    "# Define a simple scoring function\n",
    "def udf_decision_tree_model(*args) -> str:\n",
    "    import os\n",
    "    import sys\n",
    "    from joblib import load\n",
    "    # file-dependencies of UDFs are available in snowflake_import_directory\n",
    "    IMPORT_DIRECTORY_NAME = \"snowflake_import_directory\"\n",
    "    import_dir = sys._xoptions[IMPORT_DIRECTORY_NAME]\n",
    "    \n",
    "    model_name = 'classifier_model.sav'\n",
    "    \n",
    "    #loading the model\n",
    "    model = load(import_dir+model_name)\n",
    "    species_types = model.predict(pd.DataFrame([args]))[0]\n",
    "    return species_types\n",
    "\n"
   ]
  },
  {
   "cell_type": "code",
   "execution_count": 65,
   "id": "d9502681",
   "metadata": {},
   "outputs": [],
   "source": [
    "# Register UDF\n",
    "udf_decision_tree_model = session.udf.register(func=udf_decision_tree_model, \n",
    "                                                    name=\"udf_decision_tree_model\", \n",
    "                                                    stage_location='@ML_MODELS',\n",
    "                                                    input_types=[T.FloatType()]*len(feature_cols),\n",
    "                                                    return_type = T.StringType(),\n",
    "                                                    replace=True, \n",
    "                                                    is_permanent=True, \n",
    "                                                    imports=['@ML_MODELS/classifier_model.sav'],\n",
    "                                                    packages=['scikit-learn==1.1.3','pandas','joblib'], \n",
    "                                                    session=session)\n"
   ]
  },
  {
   "cell_type": "code",
   "execution_count": 66,
   "id": "397e0d59",
   "metadata": {},
   "outputs": [
    {
     "data": {
      "text/plain": [
       "[Row(status='Statement executed successfully.')]"
      ]
     },
     "execution_count": 66,
     "metadata": {},
     "output_type": "execute_result"
    }
   ],
   "source": [
    "# Lets disable result-cache for a moment to see true scoring-performance\n",
    "session.sql('ALTER SESSION SET USE_CACHED_RESULT = FALSE').collect()"
   ]
  },
  {
   "cell_type": "markdown",
   "id": "51d85388",
   "metadata": {},
   "source": [
    "Predict the speices types of new specimen. "
   ]
  },
  {
   "cell_type": "code",
   "execution_count": 74,
   "id": "a978af2e",
   "metadata": {},
   "outputs": [
    {
     "name": "stdout",
     "output_type": "stream",
     "text": [
      "-----------------------------------------------------------------------\n",
      "|\"SEPALLENGTHCM\"  |\"SEPALWIDTHCM\"  |\"PETALLENGTHCM\"  |\"PETALWIDTHCM\"  |\n",
      "-----------------------------------------------------------------------\n",
      "|5.1              |3.4             |1.4              |0.2             |\n",
      "-----------------------------------------------------------------------\n",
      "\n"
     ]
    }
   ],
   "source": [
    "# Create a DataFrame with 4 columns, 'SEPALLENGTHCM', 'SEPALWIDTHCM', 'PETALLENGTHCM', 'PETALWIDTHCM'\n",
    "sdf_iris = session.create_dataframe([[5.1, 3.4, 1.4, 0.2]], schema=['SEPALLENGTHCM', 'SEPALWIDTHCM', 'PETALLENGTHCM', 'PETALWIDTHCM'])\n",
    "sdf_iris.show()\n",
    "\n"
   ]
  },
  {
   "cell_type": "code",
   "execution_count": 75,
   "id": "b8b3e0a9",
   "metadata": {},
   "outputs": [],
   "source": [
    "predict_sdf = sdf_iris.with_column('PREDICTION',udf_decision_tree_model(*feature_cols))"
   ]
  },
  {
   "cell_type": "code",
   "execution_count": 76,
   "id": "dcb7530a",
   "metadata": {},
   "outputs": [
    {
     "name": "stdout",
     "output_type": "stream",
     "text": [
      "--------------------------------------------------------------------------------------\n",
      "|\"SEPALLENGTHCM\"  |\"SEPALWIDTHCM\"  |\"PETALLENGTHCM\"  |\"PETALWIDTHCM\"  |\"PREDICTION\"  |\n",
      "--------------------------------------------------------------------------------------\n",
      "|5.1              |3.4             |1.4              |0.2             |Iris-setosa   |\n",
      "--------------------------------------------------------------------------------------\n",
      "\n"
     ]
    }
   ],
   "source": [
    "predict_sdf.show()"
   ]
  },
  {
   "cell_type": "markdown",
   "id": "fa291ee4",
   "metadata": {},
   "source": [
    "You can stored the outcome into a table \n",
    "\n"
   ]
  },
  {
   "cell_type": "code",
   "execution_count": 77,
   "id": "9ba40b1c",
   "metadata": {},
   "outputs": [],
   "source": [
    "predict_sdf.write.save_as_table(table_name='PREDICTED_IRIS_SAMPLE', mode='append')"
   ]
  },
  {
   "cell_type": "code",
   "execution_count": null,
   "id": "a73547ec",
   "metadata": {},
   "outputs": [],
   "source": []
  }
 ],
 "metadata": {
  "kernelspec": {
   "display_name": "Python 3 (ipykernel)",
   "language": "python",
   "name": "python3"
  },
  "language_info": {
   "codemirror_mode": {
    "name": "ipython",
    "version": 3
   },
   "file_extension": ".py",
   "mimetype": "text/x-python",
   "name": "python",
   "nbconvert_exporter": "python",
   "pygments_lexer": "ipython3",
   "version": "3.8.15"
  }
 },
 "nbformat": 4,
 "nbformat_minor": 5
}
