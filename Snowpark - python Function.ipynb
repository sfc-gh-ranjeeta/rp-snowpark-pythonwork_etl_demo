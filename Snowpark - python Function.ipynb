{
 "cells": [
  {
   "cell_type": "markdown",
   "id": "1cdbe70c",
   "metadata": {},
   "source": [
    "The Snowpark API provides methods that you can use to create a user-defined function from a lambda or function in Python\n",
    "\n",
    "\n",
    "With Snowpark, you can create user-defined functions (UDFs) for your custom lambdas and functions, and you can call these UDFs to process the data in your DataFrame.\n",
    "\n",
    "When you use the Snowpark API to create an UDF, the Snowpark library uploads the code for your function to an internal stage. When you call the UDF, the Snowpark library executes your function on the server, where the data is. As a result, the data doesn’t need to be transferred to the client in order for the function to process the data.\n",
    "\n",
    "In your custom code, you can also import modules from Python files or third-party packages.\n",
    "\n",
    "\n",
    "\n",
    "\n",
    "1. You can create an anonymous UDF and assign the function to a variable. As long as this variable is in scope, you can use this variable to call the UDF.\n",
    "\n",
    "2. You can create a named UDF and call the UDF by name. You can use this if, for example, you need to call a UDF by name or use the UDF in a subsequent session.\n",
    "\n",
    "\n"
   ]
  },
  {
   "cell_type": "code",
   "execution_count": null,
   "id": "9451f720",
   "metadata": {},
   "outputs": [],
   "source": [
    "#import the snowflake libraries\n",
    "from snowflake.snowpark.session import Session\n",
    "import getpass"
   ]
  },
  {
   "cell_type": "code",
   "execution_count": 26,
   "id": "c170dcd6",
   "metadata": {},
   "outputs": [
    {
     "name": "stdout",
     "output_type": "stream",
     "text": [
      "Username:rpegu\n",
      "Password for rpegu:········\n",
      "Warehouse:demo_wh\n",
      "Role:demo_role\n"
     ]
    }
   ],
   "source": [
    "#Authentication\n",
    "\n",
    "user = input(\"Username:\")\n",
    "pwd = getpass.getpass(\"Password for \" + user + \":\")\n",
    "wh = input(\"Warehouse:\") # or create a new warehouse an runtime\n",
    "role = input(\"Role:\")\n",
    "\n",
    "\n",
    "connection_parameters = {\n",
    "  \"account\": \"sfpscogs-rp022az\",\n",
    "  \"user\": user,\n",
    "  \"password\": pwd,\n",
    "  \"role\": role,\n",
    "  \"warehouse\": wh }\n",
    " # \"database\": \"SNOWPARK_DEMO\",\n",
    "#  \"schema\": \"ML_DB\"}\n",
    "\n",
    "session = Session.builder.configs(connection_parameters).create()"
   ]
  },
  {
   "cell_type": "code",
   "execution_count": 8,
   "id": "d2e4515b",
   "metadata": {},
   "outputs": [
    {
     "data": {
      "text/plain": [
       "[Row(status='RAW already exists, statement succeeded.')]"
      ]
     },
     "execution_count": 8,
     "metadata": {},
     "output_type": "execute_result"
    }
   ],
   "source": [
    "# create database in snowflake environment\n",
    "\n",
    "# Create Databse\n",
    "session.sql(\"CREATE DATABASE IF NOT EXISTS  SNOWPARK_DEMO DATA_RETENTION_TIME_IN_DAYS = 3\").collect()\n",
    "session.sql(\"CREATE  schema if not exists SNOWPARK_DEMO.RAW\").collect()"
   ]
  },
  {
   "cell_type": "code",
   "execution_count": 9,
   "id": "049cdfe5",
   "metadata": {},
   "outputs": [
    {
     "data": {
      "text/plain": [
       "[Row(status='Statement executed successfully.')]"
      ]
     },
     "execution_count": 9,
     "metadata": {},
     "output_type": "execute_result"
    }
   ],
   "source": [
    "session.sql(\"use schema SNOWPARK_DEMO.RAW\").collect()"
   ]
  },
  {
   "cell_type": "code",
   "execution_count": 11,
   "id": "7d495746",
   "metadata": {},
   "outputs": [],
   "source": [
    "from snowflake.snowpark.functions import udf"
   ]
  },
  {
   "cell_type": "code",
   "execution_count": 15,
   "id": "0e50f3b7",
   "metadata": {},
   "outputs": [],
   "source": [
    "from snowflake.snowpark.types import IntegerType\n",
    "\n",
    "def minus_one(x: int) -> int:\n",
    "    return x-1"
   ]
  },
  {
   "cell_type": "code",
   "execution_count": 16,
   "id": "234e6a4d",
   "metadata": {},
   "outputs": [
    {
     "data": {
      "text/plain": [
       "7"
      ]
     },
     "execution_count": 16,
     "metadata": {},
     "output_type": "execute_result"
    }
   ],
   "source": [
    "minus_one(8)"
   ]
  },
  {
   "cell_type": "code",
   "execution_count": 21,
   "id": "17ed7ec9",
   "metadata": {},
   "outputs": [
    {
     "data": {
      "text/plain": [
       "<snowflake.snowpark.udf.UserDefinedFunction at 0x7fb492ff48e0>"
      ]
     },
     "execution_count": 21,
     "metadata": {},
     "output_type": "execute_result"
    }
   ],
   "source": [
    "## Register UDF in Snowflake\n",
    "\n",
    "from snowflake.snowpark.types import IntegerType\n",
    "session.udf.register(\n",
    "    func = minus_one\n",
    "  , return_type = IntegerType()\n",
    "  , input_types = [IntegerType()]\n",
    "  , is_permanent = True\n",
    "  , name = 'SNOWPARK_MINUS_ONE'\n",
    "  , replace = True\n",
    "  , stage_location = '@RP_STAGE'\n",
    ")\n"
   ]
  },
  {
   "cell_type": "code",
   "execution_count": 23,
   "id": "7b8ba932",
   "metadata": {},
   "outputs": [
    {
     "name": "stdout",
     "output_type": "stream",
     "text": [
      "----------------------------\n",
      "|\"SNOWPARK_MINUS_ONE(20)\"  |\n",
      "----------------------------\n",
      "|19                        |\n",
      "----------------------------\n",
      "\n"
     ]
    }
   ],
   "source": [
    "session.sql(\"SELECT SNOWPARK_MINUS_ONE(20)\").show()"
   ]
  },
  {
   "cell_type": "markdown",
   "id": "a979c2a0",
   "metadata": {},
   "source": [
    "![uploadpyfile](images/upload_pyfile.png)"
   ]
  },
  {
   "cell_type": "code",
   "execution_count": null,
   "id": "ce99d98f",
   "metadata": {},
   "outputs": [],
   "source": [
    "# Add a zip file that you uploaded to a stage.\n",
    "\n",
    "session.add_import(\"@rp_stage/calculateAge.py.gz\")"
   ]
  },
  {
   "cell_type": "code",
   "execution_count": null,
   "id": "87326877",
   "metadata": {},
   "outputs": [],
   "source": [
    "from snowflake.snowpark.types import StringType, DateType, IntegerType\n",
    "\n",
    "from snowflake.snowpark.functions import udf\n",
    "\n",
    "session.sql(\"use schema snowpark_demo.raw\").collect()\n",
    "\n",
    "mod5_udf = session.udf.register_from_file(file_path=\"mod5.py\", func_name=\"mod5\")\n"
   ]
  },
  {
   "cell_type": "code",
   "execution_count": null,
   "id": "075de907",
   "metadata": {},
   "outputs": [],
   "source": [
    "mod5_udf = session.udf.register_from_file(file_path=\"mod5.py\",func_name=\"mod5\",) "
   ]
  },
  {
   "cell_type": "code",
   "execution_count": null,
   "id": "50fa0f56",
   "metadata": {},
   "outputs": [],
   "source": [
    "session.range(1, 8, 2).select(mod5_udf(\"id\")).to_df(\"col1\").collect()  "
   ]
  },
  {
   "cell_type": "code",
   "execution_count": null,
   "id": "666f86d5",
   "metadata": {},
   "outputs": [],
   "source": [
    "df"
   ]
  },
  {
   "cell_type": "code",
   "execution_count": null,
   "id": "35997d42",
   "metadata": {},
   "outputs": [],
   "source": [
    "today"
   ]
  },
  {
   "cell_type": "code",
   "execution_count": null,
   "id": "ee5d300a",
   "metadata": {},
   "outputs": [],
   "source": [
    "7 % 5"
   ]
  },
  {
   "cell_type": "code",
   "execution_count": 1,
   "id": "6ff303fd",
   "metadata": {},
   "outputs": [
    {
     "name": "stdout",
     "output_type": "stream",
     "text": [
      "sklearn: 1.1.3\n"
     ]
    }
   ],
   "source": [
    "# scikit-learn\n",
    "import sklearn\n",
    "print('sklearn: {}'.format(sklearn.__version__))"
   ]
  },
  {
   "cell_type": "code",
   "execution_count": 4,
   "id": "a4a8263f",
   "metadata": {},
   "outputs": [
    {
     "ename": "NameError",
     "evalue": "name 'feature_cols' is not defined",
     "output_type": "error",
     "traceback": [
      "\u001b[0;31m---------------------------------------------------------------------------\u001b[0m",
      "\u001b[0;31mNameError\u001b[0m                                 Traceback (most recent call last)",
      "Cell \u001b[0;32mIn[4], line 1\u001b[0m\n\u001b[0;32m----> 1\u001b[0m [T\u001b[38;5;241m.\u001b[39mFloatType()]\u001b[38;5;241m*\u001b[39m\u001b[38;5;28mlen\u001b[39m(\u001b[43mfeature_cols\u001b[49m)\n",
      "\u001b[0;31mNameError\u001b[0m: name 'feature_cols' is not defined"
     ]
    }
   ],
   "source": [
    "[T.FloatType()]*len(feature_cols)"
   ]
  },
  {
   "cell_type": "code",
   "execution_count": 6,
   "id": "b4d6ba84",
   "metadata": {},
   "outputs": [
    {
     "ename": "NameError",
     "evalue": "name 'feature_col' is not defined",
     "output_type": "error",
     "traceback": [
      "\u001b[0;31m---------------------------------------------------------------------------\u001b[0m",
      "\u001b[0;31mNameError\u001b[0m                                 Traceback (most recent call last)",
      "Cell \u001b[0;32mIn[6], line 1\u001b[0m\n\u001b[0;32m----> 1\u001b[0m \u001b[43mfeature_col\u001b[49m\n",
      "\u001b[0;31mNameError\u001b[0m: name 'feature_col' is not defined"
     ]
    }
   ],
   "source": [
    "feature_col"
   ]
  },
  {
   "cell_type": "code",
   "execution_count": null,
   "id": "76d108c2",
   "metadata": {},
   "outputs": [],
   "source": []
  }
 ],
 "metadata": {
  "kernelspec": {
   "display_name": "Python 3 (ipykernel)",
   "language": "python",
   "name": "python3"
  },
  "language_info": {
   "codemirror_mode": {
    "name": "ipython",
    "version": 3
   },
   "file_extension": ".py",
   "mimetype": "text/x-python",
   "name": "python",
   "nbconvert_exporter": "python",
   "pygments_lexer": "ipython3",
   "version": "3.8.15"
  }
 },
 "nbformat": 4,
 "nbformat_minor": 5
}
