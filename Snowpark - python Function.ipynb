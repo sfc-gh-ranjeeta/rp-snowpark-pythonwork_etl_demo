{
 "cells": [
  {
   "cell_type": "markdown",
   "id": "1cdbe70c",
   "metadata": {},
   "source": [
    "The Snowpark API provides methods that you can use to create a user-defined function from a lambda or function in Python\n",
    "\n",
    "\n",
    "With Snowpark, you can create user-defined functions (UDFs) for your custom lambdas and functions, and you can call these UDFs to process the data in your DataFrame.\n",
    "\n",
    "When you use the Snowpark API to create an UDF, the Snowpark library uploads the code for your function to an internal stage. When you call the UDF, the Snowpark library executes your function on the server, where the data is. As a result, the data doesn’t need to be transferred to the client in order for the function to process the data.\n",
    "\n",
    "In your custom code, you can also import modules from Python files or third-party packages.\n",
    "\n",
    "\n",
    "\n",
    "\n",
    "1. You can create an anonymous UDF and assign the function to a variable. As long as this variable is in scope, you can use this variable to call the UDF.\n",
    "\n",
    "2. You can create a named UDF and call the UDF by name. You can use this if, for example, you need to call a UDF by name or use the UDF in a subsequent session.\n",
    "\n",
    "\n"
   ]
  },
  {
   "cell_type": "code",
   "execution_count": 1,
   "id": "9451f720",
   "metadata": {},
   "outputs": [],
   "source": [
    "#import the snowflake libraries\n",
    "from snowflake.snowpark.session import Session\n",
    "import getpass"
   ]
  },
  {
   "cell_type": "code",
   "execution_count": 2,
   "id": "c170dcd6",
   "metadata": {},
   "outputs": [
    {
     "name": "stdout",
     "output_type": "stream",
     "text": [
      "Username:rpegu\n",
      "Password for rpegu:········\n",
      "Warehouse:demo_wh\n",
      "Role:demo_Role\n"
     ]
    }
   ],
   "source": [
    "#Authentication\n",
    "\n",
    "user = input(\"Username:\")\n",
    "pwd = getpass.getpass(\"Password for \" + user + \":\")\n",
    "wh = input(\"Warehouse:\") # or create a new warehouse an runtime\n",
    "role = input(\"Role:\")\n",
    "\n",
    "connection_parameters = {\n",
    "  \"account\": \"sfpscogs-rp022az\",\n",
    "  \"user\": user,\n",
    "  \"password\": pwd,\n",
    "  \"role\": role,\n",
    "  \"warehouse\": wh}\n",
    "\n",
    "session = Session.builder.configs(connection_parameters).create()"
   ]
  },
  {
   "cell_type": "code",
   "execution_count": 8,
   "id": "d2e4515b",
   "metadata": {},
   "outputs": [
    {
     "data": {
      "text/plain": [
       "[Row(status='Stage area RP_STAGE successfully created.')]"
      ]
     },
     "execution_count": 8,
     "metadata": {},
     "output_type": "execute_result"
    }
   ],
   "source": [
    "# create database in snowflake environment\n",
    "\n",
    "# Create Databse\n",
    "session.sql(\"CREATE DATABASE IF NOT EXISTS  SNOWPARK_DEMO DATA_RETENTION_TIME_IN_DAYS = 3\").collect()\n",
    "session.sql(\"CREATE SCHEMA IF NOT EXISTS RAW\").collect()\n",
    "session.sql(\"CREATE STAGE IF NOT EXISTS RP_STAGE file_format = (type = 'CSV' field_delimiter = ',' skip_header = 1)\").collect()"
   ]
  },
  {
   "cell_type": "markdown",
   "id": "a979c2a0",
   "metadata": {},
   "source": [
    "![uploadpyfile](images/upload_pyfile.png)"
   ]
  },
  {
   "cell_type": "code",
   "execution_count": 14,
   "id": "ce99d98f",
   "metadata": {},
   "outputs": [],
   "source": [
    "# Add a zip file that you uploaded to a stage.\n",
    "\n",
    "session.add_import(\"@rp_stage/calculateAge.py.gz\")"
   ]
  },
  {
   "cell_type": "code",
   "execution_count": 38,
   "id": "87326877",
   "metadata": {},
   "outputs": [
    {
     "ename": "ValueError",
     "evalue": "function mod5 is not found in file mod5.py",
     "output_type": "error",
     "traceback": [
      "\u001b[0;31m---------------------------------------------------------------------------\u001b[0m",
      "\u001b[0;31mValueError\u001b[0m                                Traceback (most recent call last)",
      "Cell \u001b[0;32mIn[38], line 4\u001b[0m\n\u001b[1;32m      1\u001b[0m \u001b[38;5;28;01mfrom\u001b[39;00m \u001b[38;5;21;01msnowflake\u001b[39;00m\u001b[38;5;21;01m.\u001b[39;00m\u001b[38;5;21;01msnowpark\u001b[39;00m\u001b[38;5;21;01m.\u001b[39;00m\u001b[38;5;21;01mtypes\u001b[39;00m \u001b[38;5;28;01mimport\u001b[39;00m StringType, DateType, IntegerType\n\u001b[1;32m      2\u001b[0m \u001b[38;5;28;01mfrom\u001b[39;00m \u001b[38;5;21;01msnowflake\u001b[39;00m\u001b[38;5;21;01m.\u001b[39;00m\u001b[38;5;21;01msnowpark\u001b[39;00m\u001b[38;5;21;01m.\u001b[39;00m\u001b[38;5;21;01mfunctions\u001b[39;00m \u001b[38;5;28;01mimport\u001b[39;00m udf\n\u001b[0;32m----> 4\u001b[0m age_udf \u001b[38;5;241m=\u001b[39m \u001b[43msession\u001b[49m\u001b[38;5;241;43m.\u001b[39;49m\u001b[43mudf\u001b[49m\u001b[38;5;241;43m.\u001b[39;49m\u001b[43mregister_from_file\u001b[49m\u001b[43m\\\u001b[49m\n\u001b[1;32m      5\u001b[0m \u001b[43m(\u001b[49m\u001b[43mfile_path\u001b[49m\u001b[38;5;241;43m=\u001b[39;49m\u001b[38;5;124;43m\"\u001b[39;49m\u001b[38;5;124;43mmod5.py\u001b[39;49m\u001b[38;5;124;43m\"\u001b[39;49m\u001b[43m,\u001b[49m\u001b[43m \u001b[49m\u001b[43m\\\u001b[49m\n\u001b[1;32m      6\u001b[0m \u001b[43m \u001b[49m\u001b[43mfunc_name\u001b[49m\u001b[38;5;241;43m=\u001b[39;49m\u001b[38;5;124;43m\"\u001b[39;49m\u001b[38;5;124;43mmod5\u001b[39;49m\u001b[38;5;124;43m\"\u001b[39;49m\u001b[43m)\u001b[49m\n",
      "File \u001b[0;32m~/opt/anaconda3/envs/pyspark_env/lib/python3.8/site-packages/snowflake/snowpark/udf.py:692\u001b[0m, in \u001b[0;36mUDFRegistration.register_from_file\u001b[0;34m(self, file_path, func_name, return_type, input_types, name, is_permanent, stage_location, imports, packages, replace, parallel, strict, secure, statement_params, source_code_display)\u001b[0m\n\u001b[1;32m    687\u001b[0m check_register_args(\n\u001b[1;32m    688\u001b[0m     TempObjectType\u001b[38;5;241m.\u001b[39mFUNCTION, name, is_permanent, stage_location, parallel\n\u001b[1;32m    689\u001b[0m )\n\u001b[1;32m    691\u001b[0m \u001b[38;5;66;03m# register udf\u001b[39;00m\n\u001b[0;32m--> 692\u001b[0m \u001b[38;5;28;01mreturn\u001b[39;00m \u001b[38;5;28;43mself\u001b[39;49m\u001b[38;5;241;43m.\u001b[39;49m\u001b[43m_do_register_udf\u001b[49m\u001b[43m(\u001b[49m\n\u001b[1;32m    693\u001b[0m \u001b[43m    \u001b[49m\u001b[43m(\u001b[49m\u001b[43mfile_path\u001b[49m\u001b[43m,\u001b[49m\u001b[43m \u001b[49m\u001b[43mfunc_name\u001b[49m\u001b[43m)\u001b[49m\u001b[43m,\u001b[49m\n\u001b[1;32m    694\u001b[0m \u001b[43m    \u001b[49m\u001b[43mreturn_type\u001b[49m\u001b[43m,\u001b[49m\n\u001b[1;32m    695\u001b[0m \u001b[43m    \u001b[49m\u001b[43minput_types\u001b[49m\u001b[43m,\u001b[49m\n\u001b[1;32m    696\u001b[0m \u001b[43m    \u001b[49m\u001b[43mname\u001b[49m\u001b[43m,\u001b[49m\n\u001b[1;32m    697\u001b[0m \u001b[43m    \u001b[49m\u001b[43mstage_location\u001b[49m\u001b[43m,\u001b[49m\n\u001b[1;32m    698\u001b[0m \u001b[43m    \u001b[49m\u001b[43mimports\u001b[49m\u001b[43m,\u001b[49m\n\u001b[1;32m    699\u001b[0m \u001b[43m    \u001b[49m\u001b[43mpackages\u001b[49m\u001b[43m,\u001b[49m\n\u001b[1;32m    700\u001b[0m \u001b[43m    \u001b[49m\u001b[43mreplace\u001b[49m\u001b[43m,\u001b[49m\n\u001b[1;32m    701\u001b[0m \u001b[43m    \u001b[49m\u001b[43mparallel\u001b[49m\u001b[43m,\u001b[49m\n\u001b[1;32m    702\u001b[0m \u001b[43m    \u001b[49m\u001b[43mstrict\u001b[49m\u001b[43m,\u001b[49m\n\u001b[1;32m    703\u001b[0m \u001b[43m    \u001b[49m\u001b[43msecure\u001b[49m\u001b[43m,\u001b[49m\n\u001b[1;32m    704\u001b[0m \u001b[43m    \u001b[49m\u001b[43mstatement_params\u001b[49m\u001b[38;5;241;43m=\u001b[39;49m\u001b[43mstatement_params\u001b[49m\u001b[43m,\u001b[49m\n\u001b[1;32m    705\u001b[0m \u001b[43m    \u001b[49m\u001b[43msource_code_display\u001b[49m\u001b[38;5;241;43m=\u001b[39;49m\u001b[43msource_code_display\u001b[49m\u001b[43m,\u001b[49m\n\u001b[1;32m    706\u001b[0m \u001b[43m    \u001b[49m\u001b[43mapi_call_source\u001b[49m\u001b[38;5;241;43m=\u001b[39;49m\u001b[38;5;124;43m\"\u001b[39;49m\u001b[38;5;124;43mUDFRegistration.register_from_file\u001b[39;49m\u001b[38;5;124;43m\"\u001b[39;49m\u001b[43m,\u001b[49m\n\u001b[1;32m    707\u001b[0m \u001b[43m\u001b[49m\u001b[43m)\u001b[49m\n",
      "File \u001b[0;32m~/opt/anaconda3/envs/pyspark_env/lib/python3.8/site-packages/snowflake/snowpark/udf.py:736\u001b[0m, in \u001b[0;36mUDFRegistration._do_register_udf\u001b[0;34m(self, func, return_type, input_types, name, stage_location, imports, packages, replace, parallel, max_batch_size, from_pandas_udf_function, strict, secure, statement_params, source_code_display, api_call_source)\u001b[0m\n\u001b[1;32m    709\u001b[0m \u001b[38;5;28;01mdef\u001b[39;00m \u001b[38;5;21m_do_register_udf\u001b[39m(\n\u001b[1;32m    710\u001b[0m     \u001b[38;5;28mself\u001b[39m,\n\u001b[1;32m    711\u001b[0m     func: Union[Callable, Tuple[\u001b[38;5;28mstr\u001b[39m, \u001b[38;5;28mstr\u001b[39m]],\n\u001b[0;32m   (...)\u001b[0m\n\u001b[1;32m    728\u001b[0m ) \u001b[38;5;241m-\u001b[39m\u001b[38;5;241m>\u001b[39m UserDefinedFunction:\n\u001b[1;32m    729\u001b[0m     \u001b[38;5;66;03m# get the udf name, return and input types\u001b[39;00m\n\u001b[1;32m    730\u001b[0m     (\n\u001b[1;32m    731\u001b[0m         udf_name,\n\u001b[1;32m    732\u001b[0m         is_pandas_udf,\n\u001b[1;32m    733\u001b[0m         is_dataframe_input,\n\u001b[1;32m    734\u001b[0m         return_type,\n\u001b[1;32m    735\u001b[0m         input_types,\n\u001b[0;32m--> 736\u001b[0m     ) \u001b[38;5;241m=\u001b[39m \u001b[43mprocess_registration_inputs\u001b[49m\u001b[43m(\u001b[49m\n\u001b[1;32m    737\u001b[0m \u001b[43m        \u001b[49m\u001b[38;5;28;43mself\u001b[39;49m\u001b[38;5;241;43m.\u001b[39;49m\u001b[43m_session\u001b[49m\u001b[43m,\u001b[49m\u001b[43m \u001b[49m\u001b[43mTempObjectType\u001b[49m\u001b[38;5;241;43m.\u001b[39;49m\u001b[43mFUNCTION\u001b[49m\u001b[43m,\u001b[49m\u001b[43m \u001b[49m\u001b[43mfunc\u001b[49m\u001b[43m,\u001b[49m\u001b[43m \u001b[49m\u001b[43mreturn_type\u001b[49m\u001b[43m,\u001b[49m\u001b[43m \u001b[49m\u001b[43minput_types\u001b[49m\u001b[43m,\u001b[49m\u001b[43m \u001b[49m\u001b[43mname\u001b[49m\n\u001b[1;32m    738\u001b[0m \u001b[43m    \u001b[49m\u001b[43m)\u001b[49m\n\u001b[1;32m    740\u001b[0m     arg_names \u001b[38;5;241m=\u001b[39m [\u001b[38;5;124mf\u001b[39m\u001b[38;5;124m\"\u001b[39m\u001b[38;5;124marg\u001b[39m\u001b[38;5;132;01m{\u001b[39;00mi \u001b[38;5;241m+\u001b[39m \u001b[38;5;241m1\u001b[39m\u001b[38;5;132;01m}\u001b[39;00m\u001b[38;5;124m\"\u001b[39m \u001b[38;5;28;01mfor\u001b[39;00m i \u001b[38;5;129;01min\u001b[39;00m \u001b[38;5;28mrange\u001b[39m(\u001b[38;5;28mlen\u001b[39m(input_types))]\n\u001b[1;32m    741\u001b[0m     input_args \u001b[38;5;241m=\u001b[39m [\n\u001b[1;32m    742\u001b[0m         UDFColumn(dt, arg_name) \u001b[38;5;28;01mfor\u001b[39;00m dt, arg_name \u001b[38;5;129;01min\u001b[39;00m \u001b[38;5;28mzip\u001b[39m(input_types, arg_names)\n\u001b[1;32m    743\u001b[0m     ]\n",
      "File \u001b[0;32m~/opt/anaconda3/envs/pyspark_env/lib/python3.8/site-packages/snowflake/snowpark/_internal/udf_utils.py:304\u001b[0m, in \u001b[0;36mprocess_registration_inputs\u001b[0;34m(session, object_type, func, return_type, input_types, name)\u001b[0m\n\u001b[1;32m    296\u001b[0m validate_object_name(object_name)\n\u001b[1;32m    298\u001b[0m \u001b[38;5;66;03m# get return and input types\u001b[39;00m\n\u001b[1;32m    299\u001b[0m (\n\u001b[1;32m    300\u001b[0m     is_pandas_udf,\n\u001b[1;32m    301\u001b[0m     is_dataframe_input,\n\u001b[1;32m    302\u001b[0m     return_type,\n\u001b[1;32m    303\u001b[0m     input_types,\n\u001b[0;32m--> 304\u001b[0m ) \u001b[38;5;241m=\u001b[39m \u001b[43mextract_return_input_types\u001b[49m\u001b[43m(\u001b[49m\n\u001b[1;32m    305\u001b[0m \u001b[43m    \u001b[49m\u001b[43mfunc\u001b[49m\u001b[43m,\u001b[49m\u001b[43m \u001b[49m\u001b[43mreturn_type\u001b[49m\u001b[43m,\u001b[49m\u001b[43m \u001b[49m\u001b[43m[\u001b[49m\u001b[43m]\u001b[49m\u001b[43m \u001b[49m\u001b[38;5;28;43;01mif\u001b[39;49;00m\u001b[43m \u001b[49m\u001b[43minput_types\u001b[49m\u001b[43m \u001b[49m\u001b[38;5;129;43;01mis\u001b[39;49;00m\u001b[43m \u001b[49m\u001b[38;5;28;43;01mNone\u001b[39;49;00m\u001b[43m \u001b[49m\u001b[38;5;28;43;01melse\u001b[39;49;00m\u001b[43m \u001b[49m\u001b[43minput_types\u001b[49m\u001b[43m,\u001b[49m\u001b[43m \u001b[49m\u001b[43mobject_type\u001b[49m\n\u001b[1;32m    306\u001b[0m \u001b[43m\u001b[49m\u001b[43m)\u001b[49m\n\u001b[1;32m    308\u001b[0m \u001b[38;5;28;01mreturn\u001b[39;00m object_name, is_pandas_udf, is_dataframe_input, return_type, input_types\n",
      "File \u001b[0;32m~/opt/anaconda3/envs/pyspark_env/lib/python3.8/site-packages/snowflake/snowpark/_internal/udf_utils.py:190\u001b[0m, in \u001b[0;36mextract_return_input_types\u001b[0;34m(func, return_type, input_types, object_type)\u001b[0m\n\u001b[1;32m    172\u001b[0m \u001b[38;5;28;01mdef\u001b[39;00m \u001b[38;5;21mextract_return_input_types\u001b[39m(\n\u001b[1;32m    173\u001b[0m     func: Union[Callable, Tuple[\u001b[38;5;28mstr\u001b[39m, \u001b[38;5;28mstr\u001b[39m]],\n\u001b[1;32m    174\u001b[0m     return_type: Optional[DataType],\n\u001b[0;32m   (...)\u001b[0m\n\u001b[1;32m    185\u001b[0m     \u001b[38;5;66;03m#   2. return_type and input_types are not provided, but type hints are provided,\u001b[39;00m\n\u001b[1;32m    186\u001b[0m     \u001b[38;5;66;03m#      then just use the types inferred from type hints.\u001b[39;00m\n\u001b[1;32m    187\u001b[0m     (\n\u001b[1;32m    188\u001b[0m         return_type_from_type_hints,\n\u001b[1;32m    189\u001b[0m         input_types_from_type_hints,\n\u001b[0;32m--> 190\u001b[0m     ) \u001b[38;5;241m=\u001b[39m \u001b[43mget_types_from_type_hints\u001b[49m\u001b[43m(\u001b[49m\u001b[43mfunc\u001b[49m\u001b[43m,\u001b[49m\u001b[43m \u001b[49m\u001b[43mobject_type\u001b[49m\u001b[43m)\u001b[49m\n\u001b[1;32m    191\u001b[0m     \u001b[38;5;28;01mif\u001b[39;00m return_type \u001b[38;5;129;01mand\u001b[39;00m return_type_from_type_hints:\n\u001b[1;32m    192\u001b[0m         \u001b[38;5;28;01mif\u001b[39;00m \u001b[38;5;28misinstance\u001b[39m(return_type_from_type_hints, PandasSeriesType):\n",
      "File \u001b[0;32m~/opt/anaconda3/envs/pyspark_env/lib/python3.8/site-packages/snowflake/snowpark/_internal/udf_utils.py:97\u001b[0m, in \u001b[0;36mget_types_from_type_hints\u001b[0;34m(func, object_type)\u001b[0m\n\u001b[1;32m     88\u001b[0m         python_types_dict \u001b[38;5;241m=\u001b[39m (\n\u001b[1;32m     89\u001b[0m             retrieve_func_type_hints_from_source(\n\u001b[1;32m     90\u001b[0m                 func[\u001b[38;5;241m0\u001b[39m], TABLE_FUNCTION_PROCESS_METHOD, class_name\u001b[38;5;241m=\u001b[39mfunc[\u001b[38;5;241m1\u001b[39m]\n\u001b[0;32m   (...)\u001b[0m\n\u001b[1;32m     93\u001b[0m             \u001b[38;5;28;01melse\u001b[39;00m {}\n\u001b[1;32m     94\u001b[0m         )\n\u001b[1;32m     95\u001b[0m     \u001b[38;5;28;01melse\u001b[39;00m:\n\u001b[1;32m     96\u001b[0m         python_types_dict \u001b[38;5;241m=\u001b[39m (\n\u001b[0;32m---> 97\u001b[0m             \u001b[43mretrieve_func_type_hints_from_source\u001b[49m\u001b[43m(\u001b[49m\u001b[43mfunc\u001b[49m\u001b[43m[\u001b[49m\u001b[38;5;241;43m0\u001b[39;49m\u001b[43m]\u001b[49m\u001b[43m,\u001b[49m\u001b[43m \u001b[49m\u001b[43mfunc\u001b[49m\u001b[43m[\u001b[49m\u001b[38;5;241;43m1\u001b[39;49m\u001b[43m]\u001b[49m\u001b[43m)\u001b[49m\n\u001b[1;32m     98\u001b[0m             \u001b[38;5;28;01mif\u001b[39;00m is_local_python_file(func[\u001b[38;5;241m0\u001b[39m])\n\u001b[1;32m     99\u001b[0m             \u001b[38;5;28;01melse\u001b[39;00m {}\n\u001b[1;32m    100\u001b[0m         )\n\u001b[1;32m    102\u001b[0m \u001b[38;5;28;01mif\u001b[39;00m object_type \u001b[38;5;241m==\u001b[39m TempObjectType\u001b[38;5;241m.\u001b[39mTABLE_FUNCTION:\n\u001b[1;32m    103\u001b[0m     return_type \u001b[38;5;241m=\u001b[39m \u001b[38;5;28;01mNone\u001b[39;00m\n",
      "File \u001b[0;32m~/opt/anaconda3/envs/pyspark_env/lib/python3.8/site-packages/snowflake/snowpark/_internal/type_utils.py:523\u001b[0m, in \u001b[0;36mretrieve_func_type_hints_from_source\u001b[0;34m(file_path, func_name, class_name, _source)\u001b[0m\n\u001b[1;32m    521\u001b[0m visitor\u001b[38;5;241m.\u001b[39mvisit(to_visit_node_for_func)\n\u001b[1;32m    522\u001b[0m \u001b[38;5;28;01mif\u001b[39;00m \u001b[38;5;129;01mnot\u001b[39;00m visitor\u001b[38;5;241m.\u001b[39mfunc_exist:\n\u001b[0;32m--> 523\u001b[0m     \u001b[38;5;28;01mraise\u001b[39;00m \u001b[38;5;167;01mValueError\u001b[39;00m(\n\u001b[1;32m    524\u001b[0m         \u001b[38;5;124mf\u001b[39m\u001b[38;5;124m\"\u001b[39m\u001b[38;5;124mfunction \u001b[39m\u001b[38;5;132;01m{\u001b[39;00mclass_name \u001b[38;5;28;01mif\u001b[39;00m class_name \u001b[38;5;28;01melse\u001b[39;00m \u001b[38;5;124m'\u001b[39m\u001b[38;5;124m'\u001b[39m\u001b[38;5;132;01m}\u001b[39;00m\u001b[38;5;132;01m{\u001b[39;00m\u001b[38;5;124m'\u001b[39m\u001b[38;5;124m.\u001b[39m\u001b[38;5;124m'\u001b[39m \u001b[38;5;28;01mif\u001b[39;00m class_name \u001b[38;5;28;01melse\u001b[39;00m \u001b[38;5;124m'\u001b[39m\u001b[38;5;124m'\u001b[39m\u001b[38;5;132;01m}\u001b[39;00m\u001b[38;5;132;01m{\u001b[39;00mfunc_name\u001b[38;5;132;01m}\u001b[39;00m\u001b[38;5;124m is not found in file \u001b[39m\u001b[38;5;132;01m{\u001b[39;00mfile_path\u001b[38;5;132;01m}\u001b[39;00m\u001b[38;5;124m\"\u001b[39m\n\u001b[1;32m    525\u001b[0m     )\n\u001b[1;32m    526\u001b[0m \u001b[38;5;28;01mreturn\u001b[39;00m visitor\u001b[38;5;241m.\u001b[39mtype_hints\n",
      "\u001b[0;31mValueError\u001b[0m: function mod5 is not found in file mod5.py"
     ]
    }
   ],
   "source": [
    "from snowflake.snowpark.types import StringType, DateType, IntegerType\n",
    "from snowflake.snowpark.functions import udf\n",
    "\n",
    "age_udf = session.udf.register_from_file\\\n",
    "(file_path=\"mod5.py\", \\\n",
    " func_name=\"mod5\")\n"
   ]
  },
  {
   "cell_type": "code",
   "execution_count": 37,
   "id": "50fa0f56",
   "metadata": {},
   "outputs": [
    {
     "ename": "NameError",
     "evalue": "name 'today' is not defined",
     "output_type": "error",
     "traceback": [
      "\u001b[0;31m---------------------------------------------------------------------------\u001b[0m",
      "\u001b[0;31mNameError\u001b[0m                                 Traceback (most recent call last)",
      "Cell \u001b[0;32mIn[37], line 1\u001b[0m\n\u001b[0;32m----> 1\u001b[0m df \u001b[38;5;241m=\u001b[39m session\u001b[38;5;241m.\u001b[39mcreate_dataframe(\u001b[43mtoday\u001b[49m)\u001b[38;5;241m.\u001b[39mto_df(\u001b[38;5;124m\"\u001b[39m\u001b[38;5;124mdob\u001b[39m\u001b[38;5;124m\"\u001b[39m)\n",
      "\u001b[0;31mNameError\u001b[0m: name 'today' is not defined"
     ]
    }
   ],
   "source": [
    " df = session.create_dataframe(today).to_df(\"dob\")"
   ]
  },
  {
   "cell_type": "code",
   "execution_count": 34,
   "id": "35997d42",
   "metadata": {},
   "outputs": [
    {
     "ename": "NameError",
     "evalue": "name 'today' is not defined",
     "output_type": "error",
     "traceback": [
      "\u001b[0;31m---------------------------------------------------------------------------\u001b[0m",
      "\u001b[0;31mNameError\u001b[0m                                 Traceback (most recent call last)",
      "Cell \u001b[0;32mIn[34], line 1\u001b[0m\n\u001b[0;32m----> 1\u001b[0m \u001b[43mtoday\u001b[49m\n",
      "\u001b[0;31mNameError\u001b[0m: name 'today' is not defined"
     ]
    }
   ],
   "source": [
    "today"
   ]
  },
  {
   "cell_type": "code",
   "execution_count": null,
   "id": "ee5d300a",
   "metadata": {},
   "outputs": [],
   "source": []
  }
 ],
 "metadata": {
  "kernelspec": {
   "display_name": "Python 3 (ipykernel)",
   "language": "python",
   "name": "python3"
  },
  "language_info": {
   "codemirror_mode": {
    "name": "ipython",
    "version": 3
   },
   "file_extension": ".py",
   "mimetype": "text/x-python",
   "name": "python",
   "nbconvert_exporter": "python",
   "pygments_lexer": "ipython3",
   "version": "3.8.15"
  }
 },
 "nbformat": 4,
 "nbformat_minor": 5
}
