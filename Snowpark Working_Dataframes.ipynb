{
 "cells": [
  {
   "cell_type": "markdown",
   "id": "85a58e09",
   "metadata": {},
   "source": [
    "### Problem statement\n",
    "\n",
    "You are appointed as SA for **AdventureWork Bike**. It is company which is into selling sport bikes. The Company wants to \n",
    "explore Snowpark and wants to make their a analytst and Data scientist fimilar with snowpark. As the SA for the AdventureWork\n",
    "you want to help the team to explore the capabilities of snowpark for data cleansing and for creating models.\n",
    "\n",
    "\n",
    "The Analyst have provided you with two csv files containing the customer data and Sales.\n",
    "\n",
    "**Prerequisite** :-  \n",
    ". Knowledge of jupyter notebook   \n",
    ". Knowlegde of Pandas , Numpy and similar python Packages  \n",
    ". Snowflake account and previlege to create Databases in Snowflake environment "
   ]
  },
  {
   "cell_type": "code",
   "execution_count": 1,
   "id": "211a184a",
   "metadata": {},
   "outputs": [],
   "source": [
    "#import the snowflake libraries\n",
    "from snowflake.snowpark.session import Session\n",
    "import getpass"
   ]
  },
  {
   "cell_type": "code",
   "execution_count": 2,
   "id": "d3b69354",
   "metadata": {},
   "outputs": [
    {
     "name": "stdout",
     "output_type": "stream",
     "text": [
      "Username:rpegu\n",
      "Password for rpegu:········\n",
      "Warehouse:demo_wh\n",
      "Role:demo_role\n"
     ]
    }
   ],
   "source": [
    "#Authentication\n",
    "\n",
    "user = input(\"Username:\")\n",
    "pwd = getpass.getpass(\"Password for \" + user + \":\")\n",
    "wh = input(\"Warehouse:\") # or create a new warehouse an runtime\n",
    "role = input(\"Role:\")\n",
    "\n",
    "connection_parameters = {\n",
    "  \"account\": \"sfpscogs-rp022az\",\n",
    "  \"user\": user,\n",
    "  \"password\": pwd,\n",
    "  \"role\": role,\n",
    "  \"warehouse\": wh}\n",
    "\n",
    "session = Session.builder.configs(connection_parameters).create()"
   ]
  },
  {
   "cell_type": "code",
   "execution_count": 83,
   "id": "24335c74",
   "metadata": {},
   "outputs": [],
   "source": [
    "# test the connection to snowflake is working\n",
    "c_date = session.sql('select current_date()').collect()"
   ]
  },
  {
   "cell_type": "code",
   "execution_count": 4,
   "id": "592cdd13",
   "metadata": {},
   "outputs": [
    {
     "data": {
      "text/plain": [
       "[Row(status='Schema RAW successfully created.')]"
      ]
     },
     "execution_count": 4,
     "metadata": {},
     "output_type": "execute_result"
    }
   ],
   "source": [
    "# create database in snowflake environment\n",
    "\n",
    "# Create Databse\n",
    "session.sql(\"CREATE OR REPLACE DATABASE Adventurework_DB\").collect()\n",
    "session.sql(\"CREATE or replace schema RAW\").collect()"
   ]
  },
  {
   "cell_type": "code",
   "execution_count": 5,
   "id": "987cecad",
   "metadata": {},
   "outputs": [],
   "source": [
    "## will use the pandas library to load the data\n",
    "import pandas as pd\n",
    "\n",
    "# Loading from local CSV-files\n",
    "AWCustomer_df = pd.read_csv('Data/AWCustomers.csv')\n",
    "\n",
    "AWSales_df = pd.read_csv('Data/AWSales.csv')\n"
   ]
  },
  {
   "cell_type": "code",
   "execution_count": 7,
   "id": "50bee49f",
   "metadata": {},
   "outputs": [
    {
     "data": {
      "text/html": [
       "<div>\n",
       "<style scoped>\n",
       "    .dataframe tbody tr th:only-of-type {\n",
       "        vertical-align: middle;\n",
       "    }\n",
       "\n",
       "    .dataframe tbody tr th {\n",
       "        vertical-align: top;\n",
       "    }\n",
       "\n",
       "    .dataframe thead th {\n",
       "        text-align: right;\n",
       "    }\n",
       "</style>\n",
       "<table border=\"1\" class=\"dataframe\">\n",
       "  <thead>\n",
       "    <tr style=\"text-align: right;\">\n",
       "      <th></th>\n",
       "      <th>CustomerID</th>\n",
       "      <th>Title</th>\n",
       "      <th>FirstName</th>\n",
       "      <th>MiddleName</th>\n",
       "      <th>LastName</th>\n",
       "      <th>Suffix</th>\n",
       "      <th>AddressLine1</th>\n",
       "      <th>AddressLine2</th>\n",
       "      <th>City</th>\n",
       "      <th>StateProvinceName</th>\n",
       "      <th>...</th>\n",
       "      <th>Education</th>\n",
       "      <th>Occupation</th>\n",
       "      <th>Gender</th>\n",
       "      <th>MaritalStatus</th>\n",
       "      <th>HomeOwnerFlag</th>\n",
       "      <th>NumberCarsOwned</th>\n",
       "      <th>NumberChildrenAtHome</th>\n",
       "      <th>TotalChildren</th>\n",
       "      <th>YearlyIncome</th>\n",
       "      <th>LastUpdated</th>\n",
       "    </tr>\n",
       "  </thead>\n",
       "  <tbody>\n",
       "    <tr>\n",
       "      <th>0</th>\n",
       "      <td>21173</td>\n",
       "      <td>NaN</td>\n",
       "      <td>Chad</td>\n",
       "      <td>C</td>\n",
       "      <td>Yuan</td>\n",
       "      <td>NaN</td>\n",
       "      <td>7090 C. Mount Hood</td>\n",
       "      <td>NaN</td>\n",
       "      <td>Wollongong</td>\n",
       "      <td>New South Wales</td>\n",
       "      <td>...</td>\n",
       "      <td>Bachelors</td>\n",
       "      <td>Clerical</td>\n",
       "      <td>M</td>\n",
       "      <td>M</td>\n",
       "      <td>1</td>\n",
       "      <td>3</td>\n",
       "      <td>0</td>\n",
       "      <td>1</td>\n",
       "      <td>81916</td>\n",
       "      <td>2017-03-06</td>\n",
       "    </tr>\n",
       "    <tr>\n",
       "      <th>1</th>\n",
       "      <td>13249</td>\n",
       "      <td>NaN</td>\n",
       "      <td>Ryan</td>\n",
       "      <td>NaN</td>\n",
       "      <td>Perry</td>\n",
       "      <td>NaN</td>\n",
       "      <td>3651 Willow Lake Rd</td>\n",
       "      <td>NaN</td>\n",
       "      <td>Shawnee</td>\n",
       "      <td>British Columbia</td>\n",
       "      <td>...</td>\n",
       "      <td>Partial College</td>\n",
       "      <td>Clerical</td>\n",
       "      <td>M</td>\n",
       "      <td>M</td>\n",
       "      <td>1</td>\n",
       "      <td>2</td>\n",
       "      <td>1</td>\n",
       "      <td>2</td>\n",
       "      <td>81076</td>\n",
       "      <td>2017-03-06</td>\n",
       "    </tr>\n",
       "    <tr>\n",
       "      <th>2</th>\n",
       "      <td>29350</td>\n",
       "      <td>NaN</td>\n",
       "      <td>Julia</td>\n",
       "      <td>NaN</td>\n",
       "      <td>Thompson</td>\n",
       "      <td>NaN</td>\n",
       "      <td>1774 Tice Valley Blvd.</td>\n",
       "      <td>NaN</td>\n",
       "      <td>West Covina</td>\n",
       "      <td>California</td>\n",
       "      <td>...</td>\n",
       "      <td>Bachelors</td>\n",
       "      <td>Clerical</td>\n",
       "      <td>F</td>\n",
       "      <td>S</td>\n",
       "      <td>0</td>\n",
       "      <td>3</td>\n",
       "      <td>0</td>\n",
       "      <td>0</td>\n",
       "      <td>86387</td>\n",
       "      <td>2017-03-06</td>\n",
       "    </tr>\n",
       "    <tr>\n",
       "      <th>3</th>\n",
       "      <td>13503</td>\n",
       "      <td>NaN</td>\n",
       "      <td>Theodore</td>\n",
       "      <td>NaN</td>\n",
       "      <td>Gomez</td>\n",
       "      <td>NaN</td>\n",
       "      <td>2103 Baldwin Dr</td>\n",
       "      <td>NaN</td>\n",
       "      <td>Liverpool</td>\n",
       "      <td>England</td>\n",
       "      <td>...</td>\n",
       "      <td>Partial College</td>\n",
       "      <td>Skilled Manual</td>\n",
       "      <td>M</td>\n",
       "      <td>M</td>\n",
       "      <td>1</td>\n",
       "      <td>2</td>\n",
       "      <td>1</td>\n",
       "      <td>2</td>\n",
       "      <td>61481</td>\n",
       "      <td>2017-03-06</td>\n",
       "    </tr>\n",
       "    <tr>\n",
       "      <th>4</th>\n",
       "      <td>22803</td>\n",
       "      <td>NaN</td>\n",
       "      <td>Marshall</td>\n",
       "      <td>J</td>\n",
       "      <td>Shan</td>\n",
       "      <td>NaN</td>\n",
       "      <td>Am Gallberg 234</td>\n",
       "      <td>NaN</td>\n",
       "      <td>Werne</td>\n",
       "      <td>Nordrhein-Westfalen</td>\n",
       "      <td>...</td>\n",
       "      <td>Partial College</td>\n",
       "      <td>Skilled Manual</td>\n",
       "      <td>M</td>\n",
       "      <td>S</td>\n",
       "      <td>1</td>\n",
       "      <td>1</td>\n",
       "      <td>0</td>\n",
       "      <td>0</td>\n",
       "      <td>51804</td>\n",
       "      <td>2017-03-06</td>\n",
       "    </tr>\n",
       "  </tbody>\n",
       "</table>\n",
       "<p>5 rows × 24 columns</p>\n",
       "</div>"
      ],
      "text/plain": [
       "   CustomerID Title FirstName MiddleName  LastName Suffix  \\\n",
       "0       21173   NaN      Chad          C      Yuan    NaN   \n",
       "1       13249   NaN      Ryan        NaN     Perry    NaN   \n",
       "2       29350   NaN     Julia        NaN  Thompson    NaN   \n",
       "3       13503   NaN  Theodore        NaN     Gomez    NaN   \n",
       "4       22803   NaN  Marshall          J      Shan    NaN   \n",
       "\n",
       "             AddressLine1 AddressLine2         City    StateProvinceName  ...  \\\n",
       "0      7090 C. Mount Hood          NaN   Wollongong      New South Wales  ...   \n",
       "1     3651 Willow Lake Rd          NaN      Shawnee     British Columbia  ...   \n",
       "2  1774 Tice Valley Blvd.          NaN  West Covina           California  ...   \n",
       "3         2103 Baldwin Dr          NaN    Liverpool              England  ...   \n",
       "4         Am Gallberg 234          NaN        Werne  Nordrhein-Westfalen  ...   \n",
       "\n",
       "         Education      Occupation Gender MaritalStatus HomeOwnerFlag  \\\n",
       "0        Bachelors        Clerical      M             M             1   \n",
       "1  Partial College        Clerical      M             M             1   \n",
       "2        Bachelors        Clerical      F             S             0   \n",
       "3  Partial College  Skilled Manual      M             M             1   \n",
       "4  Partial College  Skilled Manual      M             S             1   \n",
       "\n",
       "  NumberCarsOwned NumberChildrenAtHome TotalChildren  YearlyIncome  \\\n",
       "0               3                    0             1         81916   \n",
       "1               2                    1             2         81076   \n",
       "2               3                    0             0         86387   \n",
       "3               2                    1             2         61481   \n",
       "4               1                    0             0         51804   \n",
       "\n",
       "   LastUpdated  \n",
       "0   2017-03-06  \n",
       "1   2017-03-06  \n",
       "2   2017-03-06  \n",
       "3   2017-03-06  \n",
       "4   2017-03-06  \n",
       "\n",
       "[5 rows x 24 columns]"
      ]
     },
     "execution_count": 7,
     "metadata": {},
     "output_type": "execute_result"
    }
   ],
   "source": [
    "## Pandas Dataframes\n",
    "AWCustomer_df.head(5)"
   ]
  },
  {
   "cell_type": "code",
   "execution_count": 23,
   "id": "b7d847a8",
   "metadata": {},
   "outputs": [
    {
     "data": {
      "text/html": [
       "<div>\n",
       "<style scoped>\n",
       "    .dataframe tbody tr th:only-of-type {\n",
       "        vertical-align: middle;\n",
       "    }\n",
       "\n",
       "    .dataframe tbody tr th {\n",
       "        vertical-align: top;\n",
       "    }\n",
       "\n",
       "    .dataframe thead th {\n",
       "        text-align: right;\n",
       "    }\n",
       "</style>\n",
       "<table border=\"1\" class=\"dataframe\">\n",
       "  <thead>\n",
       "    <tr style=\"text-align: right;\">\n",
       "      <th></th>\n",
       "      <th>CustomerID</th>\n",
       "      <th>BikeBuyer</th>\n",
       "      <th>AvgMonthSpend</th>\n",
       "    </tr>\n",
       "  </thead>\n",
       "  <tbody>\n",
       "    <tr>\n",
       "      <th>0</th>\n",
       "      <td>21173</td>\n",
       "      <td>1</td>\n",
       "      <td>50.97</td>\n",
       "    </tr>\n",
       "    <tr>\n",
       "      <th>1</th>\n",
       "      <td>13249</td>\n",
       "      <td>1</td>\n",
       "      <td>53.11</td>\n",
       "    </tr>\n",
       "    <tr>\n",
       "      <th>2</th>\n",
       "      <td>29350</td>\n",
       "      <td>1</td>\n",
       "      <td>54.08</td>\n",
       "    </tr>\n",
       "    <tr>\n",
       "      <th>3</th>\n",
       "      <td>13503</td>\n",
       "      <td>1</td>\n",
       "      <td>56.93</td>\n",
       "    </tr>\n",
       "    <tr>\n",
       "      <th>4</th>\n",
       "      <td>22803</td>\n",
       "      <td>1</td>\n",
       "      <td>55.41</td>\n",
       "    </tr>\n",
       "  </tbody>\n",
       "</table>\n",
       "</div>"
      ],
      "text/plain": [
       "   CustomerID  BikeBuyer  AvgMonthSpend\n",
       "0       21173          1          50.97\n",
       "1       13249          1          53.11\n",
       "2       29350          1          54.08\n",
       "3       13503          1          56.93\n",
       "4       22803          1          55.41"
      ]
     },
     "execution_count": 23,
     "metadata": {},
     "output_type": "execute_result"
    }
   ],
   "source": [
    "\n",
    "AWSales_df.head(5)"
   ]
  },
  {
   "cell_type": "code",
   "execution_count": 22,
   "id": "1048de08",
   "metadata": {},
   "outputs": [
    {
     "name": "stdout",
     "output_type": "stream",
     "text": [
      "(18361, 24)\n",
      "(18355, 3)\n"
     ]
    }
   ],
   "source": [
    "print(AWCustomer_df.shape)\n",
    "print(AWSales_df.shape)"
   ]
  },
  {
   "cell_type": "code",
   "execution_count": 7,
   "id": "8707013d",
   "metadata": {},
   "outputs": [
    {
     "data": {
      "text/plain": [
       "<snowflake.snowpark.table.Table at 0x7fd0281a0a30>"
      ]
     },
     "execution_count": 7,
     "metadata": {},
     "output_type": "execute_result"
    }
   ],
   "source": [
    "# Upload to Snowflake\n",
    "\n",
    "#write the dataframe in AW_Customer in \n",
    "session.write_pandas(AWCustomer_df, table_name=\"AW_CUSTOMERS\", auto_create_table=True, overwrite=True)\n",
    "\n",
    "session.write_pandas(AWSales_df, table_name='AW_SALES', auto_create_table=True, overwrite=True)"
   ]
  },
  {
   "cell_type": "markdown",
   "id": "8065550b",
   "metadata": {},
   "source": [
    "Its a good time to see whats happening at the snowflake site. \n",
    "\n",
    "\n",
    "![snf_worksheet_1](images/snf_ws_1.png)"
   ]
  },
  {
   "cell_type": "markdown",
   "id": "8d07a408",
   "metadata": {},
   "source": [
    "Now lets check the Query History tab in snowflake snowsight ui.\n"
   ]
  },
  {
   "cell_type": "markdown",
   "id": "cc246e6c",
   "metadata": {},
   "source": [
    "![Query History](Images/snf_qh_1.png)"
   ]
  },
  {
   "cell_type": "markdown",
   "id": "47a60e57",
   "metadata": {},
   "source": [
    "Lets create a snowpark Dataframe and compare it with Pandas dataframe."
   ]
  },
  {
   "cell_type": "code",
   "execution_count": 9,
   "id": "4d627da0",
   "metadata": {},
   "outputs": [],
   "source": [
    "# creating snowpark DataFrame\n",
    "\n",
    "snowpark_df = session.table('RAW.AW_CUSTOMERS')"
   ]
  },
  {
   "cell_type": "markdown",
   "id": "7adbbe67",
   "metadata": {},
   "source": [
    "As we know often Analyst and Data Scientist faces memory issues when working with jupyter notebook or similar tools. lets check \n",
    "the memory size for dataframes."
   ]
  },
  {
   "cell_type": "code",
   "execution_count": 10,
   "id": "edce8096",
   "metadata": {},
   "outputs": [
    {
     "name": "stdout",
     "output_type": "stream",
     "text": [
      "Size in MB of Snowpark DataFrame in Memory:\n",
      " 0.0\n",
      "Size in MB of pandas DataFrame in Memory:\n",
      " 19.55\n"
     ]
    }
   ],
   "source": [
    "import numpy as np\n",
    "import  sys\n",
    "\n",
    "print('Size in MB of Snowpark DataFrame in Memory:\\n', np.round(sys.getsizeof(snowpark_df) / (1024.0**2), 2))\n",
    "\n",
    "print('Size in MB of pandas DataFrame in Memory:\\n', np.round(sys.getsizeof(AWCustomer_df) / (1024.0**2), 2))"
   ]
  },
  {
   "cell_type": "markdown",
   "id": "049b6b77",
   "metadata": {},
   "source": [
    "Display the data in snowpark dataframe"
   ]
  },
  {
   "cell_type": "code",
   "execution_count": 11,
   "id": "0b54ae43",
   "metadata": {},
   "outputs": [
    {
     "name": "stdout",
     "output_type": "stream",
     "text": [
      "------------------------------------------------------------------------------------------------------------------------------------------------------------------------------------------------------------------------------------------------------------------------------------------------------------------------------------------------------------------------------------------------------------------------\n",
      "|\"CustomerID\"  |\"Title\"  |\"FirstName\"  |\"MiddleName\"  |\"LastName\"  |\"Suffix\"  |\"AddressLine1\"          |\"AddressLine2\"  |\"City\"       |\"StateProvinceName\"  |\"CountryRegionName\"  |\"PostalCode\"  |\"PhoneNumber\"        |\"BirthDate\"  |\"Education\"      |\"Occupation\"    |\"Gender\"  |\"MaritalStatus\"  |\"HomeOwnerFlag\"  |\"NumberCarsOwned\"  |\"NumberChildrenAtHome\"  |\"TotalChildren\"  |\"YearlyIncome\"  |\"LastUpdated\"  |\n",
      "------------------------------------------------------------------------------------------------------------------------------------------------------------------------------------------------------------------------------------------------------------------------------------------------------------------------------------------------------------------------------------------------------------------------\n",
      "|21173         |NULL     |Chad         |C             |Yuan        |NULL      |7090 C. Mount Hood      |NULL            |Wollongong   |New South Wales      |Australia            |2500          |1 (11) 500 555-0115  |1987-11-13   |Bachelors        |Clerical        |M         |M                |1                |3                  |0                       |1                |81916           |2017-03-06     |\n",
      "|13249         |NULL     |Ryan         |NULL          |Perry       |NULL      |3651 Willow Lake Rd     |NULL            |Shawnee      |British Columbia     |Canada               |V9B 2C3       |787-555-0136         |1972-07-21   |Partial College  |Clerical        |M         |M                |1                |2                  |1                       |2                |81076           |2017-03-06     |\n",
      "|29350         |NULL     |Julia        |NULL          |Thompson    |NULL      |1774 Tice Valley Blvd.  |NULL            |West Covina  |California           |United States        |91791         |120-555-0111         |1985-11-09   |Bachelors        |Clerical        |F         |S                |0                |3                  |0                       |0                |86387           |2017-03-06     |\n",
      "|13503         |NULL     |Theodore     |NULL          |Gomez       |NULL      |2103 Baldwin Dr         |NULL            |Liverpool    |England              |United Kingdom       |L4 4HB        |1 (11) 500 555-0167  |1977-10-18   |Partial College  |Skilled Manual  |M         |M                |1                |2                  |1                       |2                |61481           |2017-03-06     |\n",
      "|22803         |NULL     |Marshall     |J             |Shan        |NULL      |Am Gallberg 234         |NULL            |Werne        |Nordrhein-Westfalen  |Germany              |59368         |1 (11) 500 555-0113  |1975-02-05   |Partial College  |Skilled Manual  |M         |S                |1                |1                  |0                       |0                |51804           |2017-03-06     |\n",
      "------------------------------------------------------------------------------------------------------------------------------------------------------------------------------------------------------------------------------------------------------------------------------------------------------------------------------------------------------------------------------------------------------------------------\n",
      "\n"
     ]
    }
   ],
   "source": [
    "# to  display the data \n",
    "snowpark_df.show(5)"
   ]
  },
  {
   "cell_type": "code",
   "execution_count": null,
   "id": "fcee7565",
   "metadata": {},
   "outputs": [],
   "source": [
    "We have already seen the size of snowpark memory is 0. It will be good idea, at this time to check \n",
    "what happening in snowflake side. So let open your snowflake Query history tab and check for more info."
   ]
  },
  {
   "cell_type": "markdown",
   "id": "19182912",
   "metadata": {},
   "source": [
    "**Query History**\n",
    "\n",
    "\n",
    "\n",
    "![snf_QH_2](images/snf_qh_2.png)"
   ]
  },
  {
   "cell_type": "markdown",
   "id": "14cda705",
   "metadata": {},
   "source": [
    "It doesn't look very pretty !!. let convert into pandas and run the code."
   ]
  },
  {
   "cell_type": "code",
   "execution_count": 13,
   "id": "75bc96de",
   "metadata": {},
   "outputs": [
    {
     "data": {
      "text/html": [
       "<div>\n",
       "<style scoped>\n",
       "    .dataframe tbody tr th:only-of-type {\n",
       "        vertical-align: middle;\n",
       "    }\n",
       "\n",
       "    .dataframe tbody tr th {\n",
       "        vertical-align: top;\n",
       "    }\n",
       "\n",
       "    .dataframe thead th {\n",
       "        text-align: right;\n",
       "    }\n",
       "</style>\n",
       "<table border=\"1\" class=\"dataframe\">\n",
       "  <thead>\n",
       "    <tr style=\"text-align: right;\">\n",
       "      <th></th>\n",
       "      <th>CustomerID</th>\n",
       "      <th>Title</th>\n",
       "      <th>FirstName</th>\n",
       "      <th>MiddleName</th>\n",
       "      <th>LastName</th>\n",
       "      <th>Suffix</th>\n",
       "      <th>AddressLine1</th>\n",
       "      <th>AddressLine2</th>\n",
       "      <th>City</th>\n",
       "      <th>StateProvinceName</th>\n",
       "      <th>...</th>\n",
       "      <th>Education</th>\n",
       "      <th>Occupation</th>\n",
       "      <th>Gender</th>\n",
       "      <th>MaritalStatus</th>\n",
       "      <th>HomeOwnerFlag</th>\n",
       "      <th>NumberCarsOwned</th>\n",
       "      <th>NumberChildrenAtHome</th>\n",
       "      <th>TotalChildren</th>\n",
       "      <th>YearlyIncome</th>\n",
       "      <th>LastUpdated</th>\n",
       "    </tr>\n",
       "  </thead>\n",
       "  <tbody>\n",
       "    <tr>\n",
       "      <th>0</th>\n",
       "      <td>21173</td>\n",
       "      <td>None</td>\n",
       "      <td>Chad</td>\n",
       "      <td>C</td>\n",
       "      <td>Yuan</td>\n",
       "      <td>None</td>\n",
       "      <td>7090 C. Mount Hood</td>\n",
       "      <td>None</td>\n",
       "      <td>Wollongong</td>\n",
       "      <td>New South Wales</td>\n",
       "      <td>...</td>\n",
       "      <td>Bachelors</td>\n",
       "      <td>Clerical</td>\n",
       "      <td>M</td>\n",
       "      <td>M</td>\n",
       "      <td>1</td>\n",
       "      <td>3</td>\n",
       "      <td>0</td>\n",
       "      <td>1</td>\n",
       "      <td>81916</td>\n",
       "      <td>2017-03-06</td>\n",
       "    </tr>\n",
       "    <tr>\n",
       "      <th>1</th>\n",
       "      <td>13249</td>\n",
       "      <td>None</td>\n",
       "      <td>Ryan</td>\n",
       "      <td>None</td>\n",
       "      <td>Perry</td>\n",
       "      <td>None</td>\n",
       "      <td>3651 Willow Lake Rd</td>\n",
       "      <td>None</td>\n",
       "      <td>Shawnee</td>\n",
       "      <td>British Columbia</td>\n",
       "      <td>...</td>\n",
       "      <td>Partial College</td>\n",
       "      <td>Clerical</td>\n",
       "      <td>M</td>\n",
       "      <td>M</td>\n",
       "      <td>1</td>\n",
       "      <td>2</td>\n",
       "      <td>1</td>\n",
       "      <td>2</td>\n",
       "      <td>81076</td>\n",
       "      <td>2017-03-06</td>\n",
       "    </tr>\n",
       "    <tr>\n",
       "      <th>2</th>\n",
       "      <td>29350</td>\n",
       "      <td>None</td>\n",
       "      <td>Julia</td>\n",
       "      <td>None</td>\n",
       "      <td>Thompson</td>\n",
       "      <td>None</td>\n",
       "      <td>1774 Tice Valley Blvd.</td>\n",
       "      <td>None</td>\n",
       "      <td>West Covina</td>\n",
       "      <td>California</td>\n",
       "      <td>...</td>\n",
       "      <td>Bachelors</td>\n",
       "      <td>Clerical</td>\n",
       "      <td>F</td>\n",
       "      <td>S</td>\n",
       "      <td>0</td>\n",
       "      <td>3</td>\n",
       "      <td>0</td>\n",
       "      <td>0</td>\n",
       "      <td>86387</td>\n",
       "      <td>2017-03-06</td>\n",
       "    </tr>\n",
       "    <tr>\n",
       "      <th>3</th>\n",
       "      <td>13503</td>\n",
       "      <td>None</td>\n",
       "      <td>Theodore</td>\n",
       "      <td>None</td>\n",
       "      <td>Gomez</td>\n",
       "      <td>None</td>\n",
       "      <td>2103 Baldwin Dr</td>\n",
       "      <td>None</td>\n",
       "      <td>Liverpool</td>\n",
       "      <td>England</td>\n",
       "      <td>...</td>\n",
       "      <td>Partial College</td>\n",
       "      <td>Skilled Manual</td>\n",
       "      <td>M</td>\n",
       "      <td>M</td>\n",
       "      <td>1</td>\n",
       "      <td>2</td>\n",
       "      <td>1</td>\n",
       "      <td>2</td>\n",
       "      <td>61481</td>\n",
       "      <td>2017-03-06</td>\n",
       "    </tr>\n",
       "    <tr>\n",
       "      <th>4</th>\n",
       "      <td>22803</td>\n",
       "      <td>None</td>\n",
       "      <td>Marshall</td>\n",
       "      <td>J</td>\n",
       "      <td>Shan</td>\n",
       "      <td>None</td>\n",
       "      <td>Am Gallberg 234</td>\n",
       "      <td>None</td>\n",
       "      <td>Werne</td>\n",
       "      <td>Nordrhein-Westfalen</td>\n",
       "      <td>...</td>\n",
       "      <td>Partial College</td>\n",
       "      <td>Skilled Manual</td>\n",
       "      <td>M</td>\n",
       "      <td>S</td>\n",
       "      <td>1</td>\n",
       "      <td>1</td>\n",
       "      <td>0</td>\n",
       "      <td>0</td>\n",
       "      <td>51804</td>\n",
       "      <td>2017-03-06</td>\n",
       "    </tr>\n",
       "  </tbody>\n",
       "</table>\n",
       "<p>5 rows × 24 columns</p>\n",
       "</div>"
      ],
      "text/plain": [
       "   CustomerID Title FirstName MiddleName  LastName Suffix  \\\n",
       "0       21173  None      Chad          C      Yuan   None   \n",
       "1       13249  None      Ryan       None     Perry   None   \n",
       "2       29350  None     Julia       None  Thompson   None   \n",
       "3       13503  None  Theodore       None     Gomez   None   \n",
       "4       22803  None  Marshall          J      Shan   None   \n",
       "\n",
       "             AddressLine1 AddressLine2         City    StateProvinceName  ...  \\\n",
       "0      7090 C. Mount Hood         None   Wollongong      New South Wales  ...   \n",
       "1     3651 Willow Lake Rd         None      Shawnee     British Columbia  ...   \n",
       "2  1774 Tice Valley Blvd.         None  West Covina           California  ...   \n",
       "3         2103 Baldwin Dr         None    Liverpool              England  ...   \n",
       "4         Am Gallberg 234         None        Werne  Nordrhein-Westfalen  ...   \n",
       "\n",
       "         Education      Occupation Gender MaritalStatus HomeOwnerFlag  \\\n",
       "0        Bachelors        Clerical      M             M             1   \n",
       "1  Partial College        Clerical      M             M             1   \n",
       "2        Bachelors        Clerical      F             S             0   \n",
       "3  Partial College  Skilled Manual      M             M             1   \n",
       "4  Partial College  Skilled Manual      M             S             1   \n",
       "\n",
       "  NumberCarsOwned NumberChildrenAtHome TotalChildren  YearlyIncome  \\\n",
       "0               3                    0             1         81916   \n",
       "1               2                    1             2         81076   \n",
       "2               3                    0             0         86387   \n",
       "3               2                    1             2         61481   \n",
       "4               1                    0             0         51804   \n",
       "\n",
       "   LastUpdated  \n",
       "0   2017-03-06  \n",
       "1   2017-03-06  \n",
       "2   2017-03-06  \n",
       "3   2017-03-06  \n",
       "4   2017-03-06  \n",
       "\n",
       "[5 rows x 24 columns]"
      ]
     },
     "execution_count": 13,
     "metadata": {},
     "output_type": "execute_result"
    }
   ],
   "source": [
    "snowpark_df.limit(5).to_pandas()"
   ]
  },
  {
   "cell_type": "code",
   "execution_count": 14,
   "id": "917650a5",
   "metadata": {},
   "outputs": [
    {
     "data": {
      "text/plain": [
       "['\"CustomerID\"',\n",
       " '\"Title\"',\n",
       " '\"FirstName\"',\n",
       " '\"MiddleName\"',\n",
       " '\"LastName\"',\n",
       " '\"Suffix\"',\n",
       " '\"AddressLine1\"',\n",
       " '\"AddressLine2\"',\n",
       " '\"City\"',\n",
       " '\"StateProvinceName\"',\n",
       " '\"CountryRegionName\"',\n",
       " '\"PostalCode\"',\n",
       " '\"PhoneNumber\"',\n",
       " '\"BirthDate\"',\n",
       " '\"Education\"',\n",
       " '\"Occupation\"',\n",
       " '\"Gender\"',\n",
       " '\"MaritalStatus\"',\n",
       " '\"HomeOwnerFlag\"',\n",
       " '\"NumberCarsOwned\"',\n",
       " '\"NumberChildrenAtHome\"',\n",
       " '\"TotalChildren\"',\n",
       " '\"YearlyIncome\"',\n",
       " '\"LastUpdated\"']"
      ]
     },
     "execution_count": 14,
     "metadata": {},
     "output_type": "execute_result"
    }
   ],
   "source": [
    "snowpark_df.columns"
   ]
  },
  {
   "cell_type": "code",
   "execution_count": 12,
   "id": "2cc533f2",
   "metadata": {},
   "outputs": [
    {
     "data": {
      "text/html": [
       "<div>\n",
       "<style scoped>\n",
       "    .dataframe tbody tr th:only-of-type {\n",
       "        vertical-align: middle;\n",
       "    }\n",
       "\n",
       "    .dataframe tbody tr th {\n",
       "        vertical-align: top;\n",
       "    }\n",
       "\n",
       "    .dataframe thead th {\n",
       "        text-align: right;\n",
       "    }\n",
       "</style>\n",
       "<table border=\"1\" class=\"dataframe\">\n",
       "  <thead>\n",
       "    <tr style=\"text-align: right;\">\n",
       "      <th></th>\n",
       "      <th>CustomerID</th>\n",
       "      <th>FirstName</th>\n",
       "      <th>MiddleName</th>\n",
       "    </tr>\n",
       "  </thead>\n",
       "  <tbody>\n",
       "    <tr>\n",
       "      <th>0</th>\n",
       "      <td>21173</td>\n",
       "      <td>Chad</td>\n",
       "      <td>C</td>\n",
       "    </tr>\n",
       "    <tr>\n",
       "      <th>1</th>\n",
       "      <td>13249</td>\n",
       "      <td>Ryan</td>\n",
       "      <td>None</td>\n",
       "    </tr>\n",
       "    <tr>\n",
       "      <th>2</th>\n",
       "      <td>29350</td>\n",
       "      <td>Julia</td>\n",
       "      <td>None</td>\n",
       "    </tr>\n",
       "    <tr>\n",
       "      <th>3</th>\n",
       "      <td>13503</td>\n",
       "      <td>Theodore</td>\n",
       "      <td>None</td>\n",
       "    </tr>\n",
       "    <tr>\n",
       "      <th>4</th>\n",
       "      <td>22803</td>\n",
       "      <td>Marshall</td>\n",
       "      <td>J</td>\n",
       "    </tr>\n",
       "  </tbody>\n",
       "</table>\n",
       "</div>"
      ],
      "text/plain": [
       "   CustomerID FirstName MiddleName\n",
       "0       21173      Chad          C\n",
       "1       13249      Ryan       None\n",
       "2       29350     Julia       None\n",
       "3       13503  Theodore       None\n",
       "4       22803  Marshall          J"
      ]
     },
     "execution_count": 12,
     "metadata": {},
     "output_type": "execute_result"
    }
   ],
   "source": [
    "snowpark_df[['\"CustomerID\"','\"FirstName\"','\"MiddleName\"']].limit(5).to_pandas()"
   ]
  },
  {
   "cell_type": "code",
   "execution_count": 13,
   "id": "f02841c7",
   "metadata": {},
   "outputs": [
    {
     "data": {
      "text/html": [
       "<div>\n",
       "<style scoped>\n",
       "    .dataframe tbody tr th:only-of-type {\n",
       "        vertical-align: middle;\n",
       "    }\n",
       "\n",
       "    .dataframe tbody tr th {\n",
       "        vertical-align: top;\n",
       "    }\n",
       "\n",
       "    .dataframe thead th {\n",
       "        text-align: right;\n",
       "    }\n",
       "</style>\n",
       "<table border=\"1\" class=\"dataframe\">\n",
       "  <thead>\n",
       "    <tr style=\"text-align: right;\">\n",
       "      <th></th>\n",
       "      <th>CustomerID</th>\n",
       "      <th>FirstName</th>\n",
       "      <th>MiddleName</th>\n",
       "    </tr>\n",
       "  </thead>\n",
       "  <tbody>\n",
       "    <tr>\n",
       "      <th>0</th>\n",
       "      <td>21173</td>\n",
       "      <td>Chad</td>\n",
       "      <td>C</td>\n",
       "    </tr>\n",
       "    <tr>\n",
       "      <th>1</th>\n",
       "      <td>13249</td>\n",
       "      <td>Ryan</td>\n",
       "      <td>None</td>\n",
       "    </tr>\n",
       "    <tr>\n",
       "      <th>2</th>\n",
       "      <td>29350</td>\n",
       "      <td>Julia</td>\n",
       "      <td>None</td>\n",
       "    </tr>\n",
       "    <tr>\n",
       "      <th>3</th>\n",
       "      <td>13503</td>\n",
       "      <td>Theodore</td>\n",
       "      <td>None</td>\n",
       "    </tr>\n",
       "    <tr>\n",
       "      <th>4</th>\n",
       "      <td>22803</td>\n",
       "      <td>Marshall</td>\n",
       "      <td>J</td>\n",
       "    </tr>\n",
       "  </tbody>\n",
       "</table>\n",
       "</div>"
      ],
      "text/plain": [
       "   CustomerID FirstName MiddleName\n",
       "0       21173      Chad          C\n",
       "1       13249      Ryan       None\n",
       "2       29350     Julia       None\n",
       "3       13503  Theodore       None\n",
       "4       22803  Marshall          J"
      ]
     },
     "execution_count": 13,
     "metadata": {},
     "output_type": "execute_result"
    }
   ],
   "source": [
    "## Uses the QueryResult - cache in snowflake.\n",
    "\n",
    "snowpark_df[['\"CustomerID\"','\"FirstName\"','\"MiddleName\"']].limit(5).to_pandas()"
   ]
  },
  {
   "cell_type": "markdown",
   "id": "642aaffd",
   "metadata": {},
   "source": [
    "## TRANSFORMATIONS USING SNOWPARK DATAFRAMES ##\n",
    "\n",
    " **Note** - DataFrame is considered lazy because it encapsulates the computation or query required to produce a relational dataset.\n",
    "The computation is not performed until you call a method that performs an *action* (e.g. collect()).\n",
    "\n",
    "Lets try our hands in some basic transformations. I refered to this [document](https://docs.snowflake.com/ko/developer-guide/snowpark/reference/python/api/snowflake.snowpark.DataFrame.html) by snowflake\n",
    "\n"
   ]
  },
  {
   "cell_type": "code",
   "execution_count": 19,
   "id": "ca86e3b6",
   "metadata": {},
   "outputs": [],
   "source": [
    "import snowflake.snowpark.functions as F\n",
    "import snowflake.snowpark.types as T\n",
    "from snowflake.snowpark.window import Window"
   ]
  },
  {
   "cell_type": "markdown",
   "id": "1e5bff84",
   "metadata": {},
   "source": [
    "**Example 1** Join()"
   ]
  },
  {
   "cell_type": "code",
   "execution_count": 71,
   "id": "056c5c35",
   "metadata": {},
   "outputs": [],
   "source": [
    "\n",
    "\n",
    "snw_awcust_df = session.table('RAW.AW_CUSTOMERS')\n",
    "snw_awsales_df = session.table('RAW.AW_SALES')\n",
    "\n",
    "snw_aw_custsales_df = snw_awcust_df.join(snw_awsales_df, snw_awcust_df['\"CustomerID\"'] \\\n",
    "                                         ==snw_awsales_df['\"CustomerID\"'])\\\n",
    ".select (snw_awcust_df['\"CustomerID\"'].as_(\"CUST_ID\"), F.col('\"BirthDate\"'), \\\n",
    "                           F.col( '\"Education\"'),\\\n",
    " F.col('\"Occupation\"'),\\\n",
    " F.col('\"Gender\"'),\\\n",
    " F.col('\"MaritalStatus\"'),\\\n",
    " F.col('\"HomeOwnerFlag\"'),\\\n",
    " F.col('\"NumberCarsOwned\"'),\\\n",
    " F.col('\"NumberChildrenAtHome\"'),\\\n",
    " F.col('\"TotalChildren\"'),\\\n",
    "  F.col('\"YearlyIncome\"'),F.col('\"BikeBuyer\"'),F.col('\"AvgMonthSpend\"'))"
   ]
  },
  {
   "cell_type": "code",
   "execution_count": 72,
   "id": "7382330c",
   "metadata": {},
   "outputs": [
    {
     "data": {
      "text/html": [
       "<div>\n",
       "<style scoped>\n",
       "    .dataframe tbody tr th:only-of-type {\n",
       "        vertical-align: middle;\n",
       "    }\n",
       "\n",
       "    .dataframe tbody tr th {\n",
       "        vertical-align: top;\n",
       "    }\n",
       "\n",
       "    .dataframe thead th {\n",
       "        text-align: right;\n",
       "    }\n",
       "</style>\n",
       "<table border=\"1\" class=\"dataframe\">\n",
       "  <thead>\n",
       "    <tr style=\"text-align: right;\">\n",
       "      <th></th>\n",
       "      <th>CUST_ID</th>\n",
       "      <th>BirthDate</th>\n",
       "      <th>Education</th>\n",
       "      <th>Occupation</th>\n",
       "      <th>Gender</th>\n",
       "      <th>MaritalStatus</th>\n",
       "      <th>HomeOwnerFlag</th>\n",
       "      <th>NumberCarsOwned</th>\n",
       "      <th>NumberChildrenAtHome</th>\n",
       "      <th>TotalChildren</th>\n",
       "      <th>YearlyIncome</th>\n",
       "      <th>BikeBuyer</th>\n",
       "      <th>AvgMonthSpend</th>\n",
       "    </tr>\n",
       "  </thead>\n",
       "  <tbody>\n",
       "    <tr>\n",
       "      <th>0</th>\n",
       "      <td>21173</td>\n",
       "      <td>1987-11-13</td>\n",
       "      <td>Bachelors</td>\n",
       "      <td>Clerical</td>\n",
       "      <td>M</td>\n",
       "      <td>M</td>\n",
       "      <td>1</td>\n",
       "      <td>3</td>\n",
       "      <td>0</td>\n",
       "      <td>1</td>\n",
       "      <td>81916</td>\n",
       "      <td>1</td>\n",
       "      <td>50.97</td>\n",
       "    </tr>\n",
       "    <tr>\n",
       "      <th>1</th>\n",
       "      <td>13249</td>\n",
       "      <td>1972-07-21</td>\n",
       "      <td>Partial College</td>\n",
       "      <td>Clerical</td>\n",
       "      <td>M</td>\n",
       "      <td>M</td>\n",
       "      <td>1</td>\n",
       "      <td>2</td>\n",
       "      <td>1</td>\n",
       "      <td>2</td>\n",
       "      <td>81076</td>\n",
       "      <td>1</td>\n",
       "      <td>53.11</td>\n",
       "    </tr>\n",
       "    <tr>\n",
       "      <th>2</th>\n",
       "      <td>29350</td>\n",
       "      <td>1985-11-09</td>\n",
       "      <td>Bachelors</td>\n",
       "      <td>Clerical</td>\n",
       "      <td>F</td>\n",
       "      <td>S</td>\n",
       "      <td>0</td>\n",
       "      <td>3</td>\n",
       "      <td>0</td>\n",
       "      <td>0</td>\n",
       "      <td>86387</td>\n",
       "      <td>1</td>\n",
       "      <td>54.08</td>\n",
       "    </tr>\n",
       "    <tr>\n",
       "      <th>3</th>\n",
       "      <td>13503</td>\n",
       "      <td>1977-10-18</td>\n",
       "      <td>Partial College</td>\n",
       "      <td>Skilled Manual</td>\n",
       "      <td>M</td>\n",
       "      <td>M</td>\n",
       "      <td>1</td>\n",
       "      <td>2</td>\n",
       "      <td>1</td>\n",
       "      <td>2</td>\n",
       "      <td>61481</td>\n",
       "      <td>1</td>\n",
       "      <td>56.93</td>\n",
       "    </tr>\n",
       "    <tr>\n",
       "      <th>4</th>\n",
       "      <td>22803</td>\n",
       "      <td>1975-02-05</td>\n",
       "      <td>Partial College</td>\n",
       "      <td>Skilled Manual</td>\n",
       "      <td>M</td>\n",
       "      <td>S</td>\n",
       "      <td>1</td>\n",
       "      <td>1</td>\n",
       "      <td>0</td>\n",
       "      <td>0</td>\n",
       "      <td>51804</td>\n",
       "      <td>1</td>\n",
       "      <td>55.41</td>\n",
       "    </tr>\n",
       "  </tbody>\n",
       "</table>\n",
       "</div>"
      ],
      "text/plain": [
       "   CUST_ID   BirthDate        Education      Occupation Gender MaritalStatus  \\\n",
       "0    21173  1987-11-13        Bachelors        Clerical      M             M   \n",
       "1    13249  1972-07-21  Partial College        Clerical      M             M   \n",
       "2    29350  1985-11-09        Bachelors        Clerical      F             S   \n",
       "3    13503  1977-10-18  Partial College  Skilled Manual      M             M   \n",
       "4    22803  1975-02-05  Partial College  Skilled Manual      M             S   \n",
       "\n",
       "   HomeOwnerFlag  NumberCarsOwned  NumberChildrenAtHome  TotalChildren  \\\n",
       "0              1                3                     0              1   \n",
       "1              1                2                     1              2   \n",
       "2              0                3                     0              0   \n",
       "3              1                2                     1              2   \n",
       "4              1                1                     0              0   \n",
       "\n",
       "   YearlyIncome  BikeBuyer  AvgMonthSpend  \n",
       "0         81916          1          50.97  \n",
       "1         81076          1          53.11  \n",
       "2         86387          1          54.08  \n",
       "3         61481          1          56.93  \n",
       "4         51804          1          55.41  "
      ]
     },
     "execution_count": 72,
     "metadata": {},
     "output_type": "execute_result"
    }
   ],
   "source": [
    "snw_aw_custsales_df.limit(5).to_pandas()"
   ]
  },
  {
   "cell_type": "markdown",
   "id": "8991e375",
   "metadata": {},
   "source": [
    "**Example 2** count()"
   ]
  },
  {
   "cell_type": "code",
   "execution_count": 73,
   "id": "415084ac",
   "metadata": {},
   "outputs": [
    {
     "data": {
      "text/plain": [
       "18361"
      ]
     },
     "execution_count": 73,
     "metadata": {},
     "output_type": "execute_result"
    }
   ],
   "source": [
    "snw_aw_custsales_df.count()"
   ]
  },
  {
   "cell_type": "code",
   "execution_count": 74,
   "id": "95ca6d92",
   "metadata": {},
   "outputs": [
    {
     "data": {
      "text/plain": [
       "['CUST_ID',\n",
       " '\"BirthDate\"',\n",
       " '\"Education\"',\n",
       " '\"Occupation\"',\n",
       " '\"Gender\"',\n",
       " '\"MaritalStatus\"',\n",
       " '\"HomeOwnerFlag\"',\n",
       " '\"NumberCarsOwned\"',\n",
       " '\"NumberChildrenAtHome\"',\n",
       " '\"TotalChildren\"',\n",
       " '\"YearlyIncome\"',\n",
       " '\"BikeBuyer\"',\n",
       " '\"AvgMonthSpend\"']"
      ]
     },
     "execution_count": 74,
     "metadata": {},
     "output_type": "execute_result"
    }
   ],
   "source": [
    "snw_aw_custsales_df.columns"
   ]
  },
  {
   "cell_type": "code",
   "execution_count": null,
   "id": "30e58218",
   "metadata": {},
   "outputs": [],
   "source": [
    "**case sensitive - F.COL does not work**"
   ]
  },
  {
   "cell_type": "code",
   "execution_count": 75,
   "id": "23c55275",
   "metadata": {},
   "outputs": [
    {
     "name": "stdout",
     "output_type": "stream",
     "text": [
      "---------------------------\n",
      "|\"CUST_ID\"  |\"BirthDate\"  |\n",
      "---------------------------\n",
      "|21173      |1987-11-13   |\n",
      "|13249      |1972-07-21   |\n",
      "|29350      |1985-11-09   |\n",
      "|13503      |1977-10-18   |\n",
      "|22803      |1975-02-05   |\n",
      "|22092      |1975-02-23   |\n",
      "|11229      |1971-12-03   |\n",
      "|24179      |1997-03-07   |\n",
      "|12127      |1976-12-14   |\n",
      "|19903      |1976-12-04   |\n",
      "---------------------------\n",
      "\n"
     ]
    }
   ],
   "source": [
    "snw_aw_custsales_df.select(\"CUST_ID\",'\"BirthDate\"').show()"
   ]
  },
  {
   "cell_type": "code",
   "execution_count": 76,
   "id": "1d4b59b5",
   "metadata": {},
   "outputs": [],
   "source": [
    "snw_aw_custsales_df.write.mode(\"overwrite\").save_as_table(\"AW_CUSTOMER_SALES\")"
   ]
  },
  {
   "cell_type": "code",
   "execution_count": 48,
   "id": "0c2ac81d",
   "metadata": {},
   "outputs": [
    {
     "data": {
      "text/plain": [
       "snowflake.snowpark.dataframe.DataFrame"
      ]
     },
     "execution_count": 48,
     "metadata": {},
     "output_type": "execute_result"
    }
   ],
   "source": [
    "type(snw_aw_custsales_df)"
   ]
  },
  {
   "cell_type": "code",
   "execution_count": 84,
   "id": "760f888f",
   "metadata": {},
   "outputs": [
    {
     "ename": "TypeError",
     "evalue": "'DATEDIFF' expected Column or str, got: <class 'list'>",
     "output_type": "error",
     "traceback": [
      "\u001b[0;31m---------------------------------------------------------------------------\u001b[0m",
      "\u001b[0;31mTypeError\u001b[0m                                 Traceback (most recent call last)",
      "Cell \u001b[0;32mIn[84], line 1\u001b[0m\n\u001b[0;32m----> 1\u001b[0m snw_aw_custsales_df\u001b[38;5;241m.\u001b[39mselect(\u001b[43mF\u001b[49m\u001b[38;5;241;43m.\u001b[39;49m\u001b[43mdatediff\u001b[49m\u001b[43m(\u001b[49m\u001b[38;5;124;43m'\u001b[39;49m\u001b[38;5;124;43myear\u001b[39;49m\u001b[38;5;124;43m'\u001b[39;49m\u001b[43m,\u001b[49m\u001b[38;5;124;43m\"\u001b[39;49m\u001b[38;5;124;43mBirthDate\u001b[39;49m\u001b[38;5;124;43m\"\u001b[39;49m\u001b[43m,\u001b[49m\u001b[43mc_date\u001b[49m\u001b[43m \u001b[49m\u001b[43m)\u001b[49m)\u001b[38;5;241m.\u001b[39mshow()\n",
      "File \u001b[0;32m~/opt/anaconda3/envs/pyspark_env/lib/python3.8/site-packages/snowflake/snowpark/functions.py:1651\u001b[0m, in \u001b[0;36mdatediff\u001b[0;34m(part, col1, col2)\u001b[0m\n\u001b[1;32m   1649\u001b[0m     \u001b[38;5;28;01mraise\u001b[39;00m \u001b[38;5;167;01mValueError\u001b[39;00m(\u001b[38;5;124m\"\u001b[39m\u001b[38;5;124mpart must be a string\u001b[39m\u001b[38;5;124m\"\u001b[39m)\n\u001b[1;32m   1650\u001b[0m c1 \u001b[38;5;241m=\u001b[39m _to_col_if_str(col1, \u001b[38;5;124m\"\u001b[39m\u001b[38;5;124mdatediff\u001b[39m\u001b[38;5;124m\"\u001b[39m)\n\u001b[0;32m-> 1651\u001b[0m c2 \u001b[38;5;241m=\u001b[39m \u001b[43m_to_col_if_str\u001b[49m\u001b[43m(\u001b[49m\u001b[43mcol2\u001b[49m\u001b[43m,\u001b[49m\u001b[43m \u001b[49m\u001b[38;5;124;43m\"\u001b[39;49m\u001b[38;5;124;43mdatediff\u001b[39;49m\u001b[38;5;124;43m\"\u001b[39;49m\u001b[43m)\u001b[49m\n\u001b[1;32m   1652\u001b[0m \u001b[38;5;28;01mreturn\u001b[39;00m builtin(\u001b[38;5;124m\"\u001b[39m\u001b[38;5;124mdatediff\u001b[39m\u001b[38;5;124m\"\u001b[39m)(part, c1, c2)\n",
      "File \u001b[0;32m~/opt/anaconda3/envs/pyspark_env/lib/python3.8/site-packages/snowflake/snowpark/column.py:107\u001b[0m, in \u001b[0;36m_to_col_if_str\u001b[0;34m(col, func_name)\u001b[0m\n\u001b[1;32m    105\u001b[0m     \u001b[38;5;28;01mreturn\u001b[39;00m Column(col)\n\u001b[1;32m    106\u001b[0m \u001b[38;5;28;01melse\u001b[39;00m:\n\u001b[0;32m--> 107\u001b[0m     \u001b[38;5;28;01mraise\u001b[39;00m \u001b[38;5;167;01mTypeError\u001b[39;00m(\n\u001b[1;32m    108\u001b[0m         \u001b[38;5;124mf\u001b[39m\u001b[38;5;124m\"\u001b[39m\u001b[38;5;124m'\u001b[39m\u001b[38;5;132;01m{\u001b[39;00mfunc_name\u001b[38;5;241m.\u001b[39mupper()\u001b[38;5;132;01m}\u001b[39;00m\u001b[38;5;124m'\u001b[39m\u001b[38;5;124m expected Column or str, got: \u001b[39m\u001b[38;5;132;01m{\u001b[39;00m\u001b[38;5;28mtype\u001b[39m(col)\u001b[38;5;132;01m}\u001b[39;00m\u001b[38;5;124m\"\u001b[39m\n\u001b[1;32m    109\u001b[0m     )\n",
      "\u001b[0;31mTypeError\u001b[0m: 'DATEDIFF' expected Column or str, got: <class 'list'>"
     ]
    }
   ],
   "source": [
    "snw_aw_custsales_df.select(F.datediff('year',\"BirthDate\",c_date )).show()"
   ]
  },
  {
   "cell_type": "code",
   "execution_count": null,
   "id": "56b53acf",
   "metadata": {},
   "outputs": [],
   "source": []
  }
 ],
 "metadata": {
  "kernelspec": {
   "display_name": "Python 3 (ipykernel)",
   "language": "python",
   "name": "python3"
  },
  "language_info": {
   "codemirror_mode": {
    "name": "ipython",
    "version": 3
   },
   "file_extension": ".py",
   "mimetype": "text/x-python",
   "name": "python",
   "nbconvert_exporter": "python",
   "pygments_lexer": "ipython3",
   "version": "3.8.15"
  }
 },
 "nbformat": 4,
 "nbformat_minor": 5
}
